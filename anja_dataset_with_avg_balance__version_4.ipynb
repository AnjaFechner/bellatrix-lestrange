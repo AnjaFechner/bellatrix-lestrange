{
 "cells": [
  {
   "cell_type": "markdown",
   "id": "certified-mississippi",
   "metadata": {},
   "source": [
    "### 0. Libraries"
   ]
  },
  {
   "cell_type": "code",
   "execution_count": 3,
   "id": "chubby-nicaragua",
   "metadata": {},
   "outputs": [],
   "source": [
    "import numpy as np\n",
    "import pandas as pd\n",
    "import time\n",
    "from datetime import date\n",
    "import warnings\n",
    "warnings.filterwarnings('ignore')\n",
    "warnings.filterwarnings(\"ignore\", message=\"numpy.ufunc size changed\")\n",
    "import matplotlib.pyplot as plt\n",
    "%matplotlib inline\n",
    "pd.set_option('display.max_columns', None) \n",
    "import seaborn as sns \n",
    "import scipy.stats as stats\n",
    "from sklearn.cluster import KMeans\n",
    "from sklearn import metrics\n",
    "from scipy.stats import chi2_contingency\n",
    "from scipy.spatial.distance import cdist\n",
    "#import the model\n",
    "from sklearn import linear_model\n",
    "#import evaluation metrics\n",
    "from sklearn.metrics import mean_squared_error, r2_score\n",
    "import numpy as np\n",
    "from sklearn.preprocessing import Normalizer\n",
    "from sklearn.preprocessing import StandardScaler\n",
    "from sklearn.preprocessing import MinMaxScaler\n",
    "from sklearn.metrics import confusion_matrix\n",
    "from sklearn.model_selection import train_test_split\n",
    "from sklearn.linear_model import LogisticRegression\n",
    "from sklearn.metrics import confusion_matrix\n",
    "from sklearn.metrics import plot_confusion_matrix\n",
    "from sklearn.cluster import KMeans\n",
    "from sklearn import metrics\n",
    "import sklearn.metrics as metrics \n",
    "from scipy.spatial.distance import cdist\n",
    "from sklearn.metrics import accuracy_score\n",
    "from sklearn.neighbors import KNeighborsRegressor\n",
    "from sklearn.metrics import mean_absolute_error, mean_squared_error, r2_score\n",
    "from mlxtend.plotting import plot_decision_regions\n",
    "from imblearn.over_sampling import SMOTE\n",
    "from imblearn.under_sampling import TomekLinks\n",
    "\n",
    "\n",
    "from collections import Counter\n",
    "from sklearn.datasets import make_classification\n",
    "from matplotlib import pyplot\n",
    "from numpy import where"
   ]
  },
  {
   "cell_type": "markdown",
   "id": "scheduled-trinity",
   "metadata": {},
   "source": [
    "## Step 1: Read the file"
   ]
  },
  {
   "cell_type": "markdown",
   "id": "infinite-paper",
   "metadata": {},
   "source": [
    "- the csv-file has no header names -> create the header names\n",
    "- the command pd.read need the additiona \"header=None\", so that the first row will be read as the second row and the header names become the first row"
   ]
  },
  {
   "cell_type": "markdown",
   "id": "valid-fiction",
   "metadata": {},
   "source": [
    "- create the header names"
   ]
  },
  {
   "cell_type": "code",
   "execution_count": 4,
   "id": "twenty-anchor",
   "metadata": {},
   "outputs": [
    {
     "data": {
      "text/plain": [
       "['Customer Number',\n",
       " 'Offer Accepted',\n",
       " 'Reward',\n",
       " 'Mailer Type',\n",
       " 'Income Level',\n",
       " 'Bank Accounts Open',\n",
       " 'Overdraft Protection',\n",
       " 'Credit Rating',\n",
       " 'Credit Cards Held',\n",
       " 'Homes Owned',\n",
       " 'Household Size',\n",
       " 'Own Your Home',\n",
       " 'Average Balance',\n",
       " 'Q1 Balance',\n",
       " 'Q2 Balance',\n",
       " 'Q3 Balance',\n",
       " 'Q4 Balance']"
      ]
     },
     "execution_count": 4,
     "metadata": {},
     "output_type": "execute_result"
    }
   ],
   "source": [
    "col = ['Customer Number', 'Offer Accepted', 'Reward', 'Mailer Type', 'Income Level', 'Bank Accounts Open', 'Overdraft Protection', 'Credit Rating', 'Credit Cards Held', 'Homes Owned', 'Household Size', 'Own Your Home', 'Average Balance', 'Q1 Balance', 'Q2 Balance', 'Q3 Balance', 'Q4 Balance']\n",
    "col"
   ]
  },
  {
   "cell_type": "markdown",
   "id": "sonic-separate",
   "metadata": {},
   "source": [
    "- and standardize the header names"
   ]
  },
  {
   "cell_type": "code",
   "execution_count": 5,
   "id": "peripheral-fifty",
   "metadata": {},
   "outputs": [
    {
     "data": {
      "text/plain": [
       "['customer_number',\n",
       " 'offer_accepted',\n",
       " 'reward',\n",
       " 'mailer_type',\n",
       " 'income_level',\n",
       " 'bank_accounts_open',\n",
       " 'overdraft_protection',\n",
       " 'credit_rating',\n",
       " 'credit_cards_held',\n",
       " 'homes_owned',\n",
       " 'household_size',\n",
       " 'own_your_home',\n",
       " 'average_balance',\n",
       " 'q1_balance',\n",
       " 'q2_balance',\n",
       " 'q3_balance',\n",
       " 'q4_balance']"
      ]
     },
     "execution_count": 5,
     "metadata": {},
     "output_type": "execute_result"
    }
   ],
   "source": [
    "col = [x.lower().replace(\" \", \"_\") for x in col]\n",
    "col"
   ]
  },
  {
   "cell_type": "markdown",
   "id": "amino-batman",
   "metadata": {},
   "source": [
    "- read the csv file ad add the header names"
   ]
  },
  {
   "cell_type": "code",
   "execution_count": 6,
   "id": "fatty-visiting",
   "metadata": {},
   "outputs": [],
   "source": [
    "df = pd.read_csv('creditcardmarketing.csv', header=None, names=col)"
   ]
  },
  {
   "cell_type": "markdown",
   "id": "touched-relation",
   "metadata": {},
   "source": [
    "## Step 2 : Wrangling and Explore the data"
   ]
  },
  {
   "cell_type": "code",
   "execution_count": 7,
   "id": "integrated-reservoir",
   "metadata": {},
   "outputs": [
    {
     "data": {
      "text/html": [
       "<div>\n",
       "<style scoped>\n",
       "    .dataframe tbody tr th:only-of-type {\n",
       "        vertical-align: middle;\n",
       "    }\n",
       "\n",
       "    .dataframe tbody tr th {\n",
       "        vertical-align: top;\n",
       "    }\n",
       "\n",
       "    .dataframe thead th {\n",
       "        text-align: right;\n",
       "    }\n",
       "</style>\n",
       "<table border=\"1\" class=\"dataframe\">\n",
       "  <thead>\n",
       "    <tr style=\"text-align: right;\">\n",
       "      <th></th>\n",
       "      <th>customer_number</th>\n",
       "      <th>offer_accepted</th>\n",
       "      <th>reward</th>\n",
       "      <th>mailer_type</th>\n",
       "      <th>income_level</th>\n",
       "      <th>bank_accounts_open</th>\n",
       "      <th>overdraft_protection</th>\n",
       "      <th>credit_rating</th>\n",
       "      <th>credit_cards_held</th>\n",
       "      <th>homes_owned</th>\n",
       "      <th>household_size</th>\n",
       "      <th>own_your_home</th>\n",
       "      <th>average_balance</th>\n",
       "      <th>q1_balance</th>\n",
       "      <th>q2_balance</th>\n",
       "      <th>q3_balance</th>\n",
       "      <th>q4_balance</th>\n",
       "    </tr>\n",
       "  </thead>\n",
       "  <tbody>\n",
       "    <tr>\n",
       "      <th>0</th>\n",
       "      <td>1</td>\n",
       "      <td>No</td>\n",
       "      <td>Air Miles</td>\n",
       "      <td>Letter</td>\n",
       "      <td>High</td>\n",
       "      <td>1</td>\n",
       "      <td>No</td>\n",
       "      <td>High</td>\n",
       "      <td>2</td>\n",
       "      <td>1</td>\n",
       "      <td>4</td>\n",
       "      <td>No</td>\n",
       "      <td>1160.75</td>\n",
       "      <td>1669.0</td>\n",
       "      <td>877.0</td>\n",
       "      <td>1095.0</td>\n",
       "      <td>1002.0</td>\n",
       "    </tr>\n",
       "    <tr>\n",
       "      <th>1</th>\n",
       "      <td>2</td>\n",
       "      <td>No</td>\n",
       "      <td>Air Miles</td>\n",
       "      <td>Letter</td>\n",
       "      <td>Medium</td>\n",
       "      <td>1</td>\n",
       "      <td>No</td>\n",
       "      <td>Medium</td>\n",
       "      <td>2</td>\n",
       "      <td>2</td>\n",
       "      <td>5</td>\n",
       "      <td>Yes</td>\n",
       "      <td>147.25</td>\n",
       "      <td>39.0</td>\n",
       "      <td>106.0</td>\n",
       "      <td>78.0</td>\n",
       "      <td>366.0</td>\n",
       "    </tr>\n",
       "    <tr>\n",
       "      <th>2</th>\n",
       "      <td>3</td>\n",
       "      <td>No</td>\n",
       "      <td>Air Miles</td>\n",
       "      <td>Postcard</td>\n",
       "      <td>High</td>\n",
       "      <td>2</td>\n",
       "      <td>No</td>\n",
       "      <td>Medium</td>\n",
       "      <td>2</td>\n",
       "      <td>1</td>\n",
       "      <td>2</td>\n",
       "      <td>Yes</td>\n",
       "      <td>276.50</td>\n",
       "      <td>367.0</td>\n",
       "      <td>352.0</td>\n",
       "      <td>145.0</td>\n",
       "      <td>242.0</td>\n",
       "    </tr>\n",
       "    <tr>\n",
       "      <th>3</th>\n",
       "      <td>4</td>\n",
       "      <td>No</td>\n",
       "      <td>Air Miles</td>\n",
       "      <td>Letter</td>\n",
       "      <td>Medium</td>\n",
       "      <td>2</td>\n",
       "      <td>No</td>\n",
       "      <td>High</td>\n",
       "      <td>1</td>\n",
       "      <td>1</td>\n",
       "      <td>4</td>\n",
       "      <td>No</td>\n",
       "      <td>1219.00</td>\n",
       "      <td>1578.0</td>\n",
       "      <td>1760.0</td>\n",
       "      <td>1119.0</td>\n",
       "      <td>419.0</td>\n",
       "    </tr>\n",
       "    <tr>\n",
       "      <th>4</th>\n",
       "      <td>5</td>\n",
       "      <td>No</td>\n",
       "      <td>Air Miles</td>\n",
       "      <td>Letter</td>\n",
       "      <td>Medium</td>\n",
       "      <td>1</td>\n",
       "      <td>No</td>\n",
       "      <td>Medium</td>\n",
       "      <td>2</td>\n",
       "      <td>1</td>\n",
       "      <td>6</td>\n",
       "      <td>Yes</td>\n",
       "      <td>1211.00</td>\n",
       "      <td>2140.0</td>\n",
       "      <td>1357.0</td>\n",
       "      <td>982.0</td>\n",
       "      <td>365.0</td>\n",
       "    </tr>\n",
       "  </tbody>\n",
       "</table>\n",
       "</div>"
      ],
      "text/plain": [
       "   customer_number offer_accepted     reward mailer_type income_level  \\\n",
       "0                1             No  Air Miles      Letter         High   \n",
       "1                2             No  Air Miles      Letter       Medium   \n",
       "2                3             No  Air Miles    Postcard         High   \n",
       "3                4             No  Air Miles      Letter       Medium   \n",
       "4                5             No  Air Miles      Letter       Medium   \n",
       "\n",
       "   bank_accounts_open overdraft_protection credit_rating  credit_cards_held  \\\n",
       "0                   1                   No          High                  2   \n",
       "1                   1                   No        Medium                  2   \n",
       "2                   2                   No        Medium                  2   \n",
       "3                   2                   No          High                  1   \n",
       "4                   1                   No        Medium                  2   \n",
       "\n",
       "   homes_owned  household_size own_your_home  average_balance  q1_balance  \\\n",
       "0            1               4            No          1160.75      1669.0   \n",
       "1            2               5           Yes           147.25        39.0   \n",
       "2            1               2           Yes           276.50       367.0   \n",
       "3            1               4            No          1219.00      1578.0   \n",
       "4            1               6           Yes          1211.00      2140.0   \n",
       "\n",
       "   q2_balance  q3_balance  q4_balance  \n",
       "0       877.0      1095.0      1002.0  \n",
       "1       106.0        78.0       366.0  \n",
       "2       352.0       145.0       242.0  \n",
       "3      1760.0      1119.0       419.0  \n",
       "4      1357.0       982.0       365.0  "
      ]
     },
     "execution_count": 7,
     "metadata": {},
     "output_type": "execute_result"
    }
   ],
   "source": [
    "df.head()"
   ]
  },
  {
   "cell_type": "code",
   "execution_count": 8,
   "id": "weird-quick",
   "metadata": {},
   "outputs": [
    {
     "data": {
      "text/plain": [
       "(18000, 17)"
      ]
     },
     "execution_count": 8,
     "metadata": {},
     "output_type": "execute_result"
    }
   ],
   "source": [
    "df.shape"
   ]
  },
  {
   "cell_type": "markdown",
   "id": "recorded-referral",
   "metadata": {},
   "source": [
    "- check the datatypes"
   ]
  },
  {
   "cell_type": "code",
   "execution_count": 9,
   "id": "understanding-subsection",
   "metadata": {},
   "outputs": [
    {
     "data": {
      "text/plain": [
       "customer_number           int64\n",
       "offer_accepted           object\n",
       "reward                   object\n",
       "mailer_type              object\n",
       "income_level             object\n",
       "bank_accounts_open        int64\n",
       "overdraft_protection     object\n",
       "credit_rating            object\n",
       "credit_cards_held         int64\n",
       "homes_owned               int64\n",
       "household_size            int64\n",
       "own_your_home            object\n",
       "average_balance         float64\n",
       "q1_balance              float64\n",
       "q2_balance              float64\n",
       "q3_balance              float64\n",
       "q4_balance              float64\n",
       "dtype: object"
      ]
     },
     "execution_count": 9,
     "metadata": {},
     "output_type": "execute_result"
    }
   ],
   "source": [
    "df.dtypes"
   ]
  },
  {
   "cell_type": "markdown",
   "id": "french-agriculture",
   "metadata": {},
   "source": [
    "- Check the missing values"
   ]
  },
  {
   "cell_type": "markdown",
   "id": "supposed-london",
   "metadata": {},
   "source": [
    "Result: Missing values exists in the dataset."
   ]
  },
  {
   "cell_type": "code",
   "execution_count": 10,
   "id": "hourly-calendar",
   "metadata": {},
   "outputs": [
    {
     "data": {
      "text/plain": [
       "customer_number          0\n",
       "offer_accepted           0\n",
       "reward                   0\n",
       "mailer_type              0\n",
       "income_level             0\n",
       "bank_accounts_open       0\n",
       "overdraft_protection     0\n",
       "credit_rating            0\n",
       "credit_cards_held        0\n",
       "homes_owned              0\n",
       "household_size           0\n",
       "own_your_home            0\n",
       "average_balance         24\n",
       "q1_balance              24\n",
       "q2_balance              24\n",
       "q3_balance              24\n",
       "q4_balance              24\n",
       "dtype: int64"
      ]
     },
     "execution_count": 10,
     "metadata": {},
     "output_type": "execute_result"
    }
   ],
   "source": [
    "df.isnull().sum()"
   ]
  },
  {
   "cell_type": "markdown",
   "id": "typical-tract",
   "metadata": {},
   "source": [
    "- Our decision: We replace the missing values with the mean only for the column average balance.  Because in later steps we drop the columns q1_balance to q4_balance."
   ]
  },
  {
   "cell_type": "code",
   "execution_count": 11,
   "id": "massive-raleigh",
   "metadata": {},
   "outputs": [],
   "source": [
    "mean_average_balance = np.mean(df['average_balance'])"
   ]
  },
  {
   "cell_type": "code",
   "execution_count": 13,
   "id": "transparent-sleep",
   "metadata": {},
   "outputs": [],
   "source": [
    "df['average_balance'] = df['average_balance'].fillna(mean_average_balance)"
   ]
  },
  {
   "cell_type": "markdown",
   "id": "polish-synthetic",
   "metadata": {},
   "source": [
    "- check the duplicates"
   ]
  },
  {
   "cell_type": "code",
   "execution_count": 14,
   "id": "coordinated-peace",
   "metadata": {},
   "outputs": [
    {
     "data": {
      "text/plain": [
       "0"
      ]
     },
     "execution_count": 14,
     "metadata": {},
     "output_type": "execute_result"
    }
   ],
   "source": [
    "df.duplicated().sum()"
   ]
  },
  {
   "cell_type": "code",
   "execution_count": 15,
   "id": "fantastic-evaluation",
   "metadata": {},
   "outputs": [
    {
     "data": {
      "text/plain": [
       "(18000, 17)"
      ]
     },
     "execution_count": 15,
     "metadata": {},
     "output_type": "execute_result"
    }
   ],
   "source": [
    "df.shape"
   ]
  },
  {
   "cell_type": "code",
   "execution_count": 16,
   "id": "express-might",
   "metadata": {},
   "outputs": [
    {
     "data": {
      "text/html": [
       "<div>\n",
       "<style scoped>\n",
       "    .dataframe tbody tr th:only-of-type {\n",
       "        vertical-align: middle;\n",
       "    }\n",
       "\n",
       "    .dataframe tbody tr th {\n",
       "        vertical-align: top;\n",
       "    }\n",
       "\n",
       "    .dataframe thead th {\n",
       "        text-align: right;\n",
       "    }\n",
       "</style>\n",
       "<table border=\"1\" class=\"dataframe\">\n",
       "  <thead>\n",
       "    <tr style=\"text-align: right;\">\n",
       "      <th></th>\n",
       "      <th>customer_number</th>\n",
       "      <th>bank_accounts_open</th>\n",
       "      <th>credit_cards_held</th>\n",
       "      <th>homes_owned</th>\n",
       "      <th>household_size</th>\n",
       "      <th>average_balance</th>\n",
       "      <th>q1_balance</th>\n",
       "      <th>q2_balance</th>\n",
       "      <th>q3_balance</th>\n",
       "      <th>q4_balance</th>\n",
       "    </tr>\n",
       "  </thead>\n",
       "  <tbody>\n",
       "    <tr>\n",
       "      <th>count</th>\n",
       "      <td>18000.000000</td>\n",
       "      <td>18000.000000</td>\n",
       "      <td>18000.000000</td>\n",
       "      <td>18000.000000</td>\n",
       "      <td>18000.000000</td>\n",
       "      <td>18000.000000</td>\n",
       "      <td>17976.000000</td>\n",
       "      <td>17976.000000</td>\n",
       "      <td>17976.000000</td>\n",
       "      <td>17976.000000</td>\n",
       "    </tr>\n",
       "    <tr>\n",
       "      <th>mean</th>\n",
       "      <td>9000.500000</td>\n",
       "      <td>1.255778</td>\n",
       "      <td>1.903500</td>\n",
       "      <td>1.203444</td>\n",
       "      <td>3.499056</td>\n",
       "      <td>940.515562</td>\n",
       "      <td>910.450656</td>\n",
       "      <td>999.392190</td>\n",
       "      <td>1042.033600</td>\n",
       "      <td>810.185803</td>\n",
       "    </tr>\n",
       "    <tr>\n",
       "      <th>std</th>\n",
       "      <td>5196.296758</td>\n",
       "      <td>0.472501</td>\n",
       "      <td>0.797009</td>\n",
       "      <td>0.427341</td>\n",
       "      <td>1.114182</td>\n",
       "      <td>350.064214</td>\n",
       "      <td>620.077060</td>\n",
       "      <td>457.402268</td>\n",
       "      <td>553.452599</td>\n",
       "      <td>559.001365</td>\n",
       "    </tr>\n",
       "    <tr>\n",
       "      <th>min</th>\n",
       "      <td>1.000000</td>\n",
       "      <td>1.000000</td>\n",
       "      <td>1.000000</td>\n",
       "      <td>1.000000</td>\n",
       "      <td>1.000000</td>\n",
       "      <td>48.250000</td>\n",
       "      <td>0.000000</td>\n",
       "      <td>0.000000</td>\n",
       "      <td>0.000000</td>\n",
       "      <td>0.000000</td>\n",
       "    </tr>\n",
       "    <tr>\n",
       "      <th>25%</th>\n",
       "      <td>4500.750000</td>\n",
       "      <td>1.000000</td>\n",
       "      <td>1.000000</td>\n",
       "      <td>1.000000</td>\n",
       "      <td>3.000000</td>\n",
       "      <td>787.937500</td>\n",
       "      <td>392.750000</td>\n",
       "      <td>663.000000</td>\n",
       "      <td>633.000000</td>\n",
       "      <td>363.000000</td>\n",
       "    </tr>\n",
       "    <tr>\n",
       "      <th>50%</th>\n",
       "      <td>9000.500000</td>\n",
       "      <td>1.000000</td>\n",
       "      <td>2.000000</td>\n",
       "      <td>1.000000</td>\n",
       "      <td>3.000000</td>\n",
       "      <td>1006.500000</td>\n",
       "      <td>772.000000</td>\n",
       "      <td>1032.000000</td>\n",
       "      <td>945.500000</td>\n",
       "      <td>703.000000</td>\n",
       "    </tr>\n",
       "    <tr>\n",
       "      <th>75%</th>\n",
       "      <td>13500.250000</td>\n",
       "      <td>1.000000</td>\n",
       "      <td>2.000000</td>\n",
       "      <td>1.000000</td>\n",
       "      <td>4.000000</td>\n",
       "      <td>1152.562500</td>\n",
       "      <td>1521.000000</td>\n",
       "      <td>1342.000000</td>\n",
       "      <td>1463.000000</td>\n",
       "      <td>1212.000000</td>\n",
       "    </tr>\n",
       "    <tr>\n",
       "      <th>max</th>\n",
       "      <td>18000.000000</td>\n",
       "      <td>3.000000</td>\n",
       "      <td>4.000000</td>\n",
       "      <td>3.000000</td>\n",
       "      <td>9.000000</td>\n",
       "      <td>3366.250000</td>\n",
       "      <td>3450.000000</td>\n",
       "      <td>3421.000000</td>\n",
       "      <td>3823.000000</td>\n",
       "      <td>4215.000000</td>\n",
       "    </tr>\n",
       "  </tbody>\n",
       "</table>\n",
       "</div>"
      ],
      "text/plain": [
       "       customer_number  bank_accounts_open  credit_cards_held   homes_owned  \\\n",
       "count     18000.000000        18000.000000       18000.000000  18000.000000   \n",
       "mean       9000.500000            1.255778           1.903500      1.203444   \n",
       "std        5196.296758            0.472501           0.797009      0.427341   \n",
       "min           1.000000            1.000000           1.000000      1.000000   \n",
       "25%        4500.750000            1.000000           1.000000      1.000000   \n",
       "50%        9000.500000            1.000000           2.000000      1.000000   \n",
       "75%       13500.250000            1.000000           2.000000      1.000000   \n",
       "max       18000.000000            3.000000           4.000000      3.000000   \n",
       "\n",
       "       household_size  average_balance    q1_balance    q2_balance  \\\n",
       "count    18000.000000     18000.000000  17976.000000  17976.000000   \n",
       "mean         3.499056       940.515562    910.450656    999.392190   \n",
       "std          1.114182       350.064214    620.077060    457.402268   \n",
       "min          1.000000        48.250000      0.000000      0.000000   \n",
       "25%          3.000000       787.937500    392.750000    663.000000   \n",
       "50%          3.000000      1006.500000    772.000000   1032.000000   \n",
       "75%          4.000000      1152.562500   1521.000000   1342.000000   \n",
       "max          9.000000      3366.250000   3450.000000   3421.000000   \n",
       "\n",
       "         q3_balance    q4_balance  \n",
       "count  17976.000000  17976.000000  \n",
       "mean    1042.033600    810.185803  \n",
       "std      553.452599    559.001365  \n",
       "min        0.000000      0.000000  \n",
       "25%      633.000000    363.000000  \n",
       "50%      945.500000    703.000000  \n",
       "75%     1463.000000   1212.000000  \n",
       "max     3823.000000   4215.000000  "
      ]
     },
     "execution_count": 16,
     "metadata": {},
     "output_type": "execute_result"
    }
   ],
   "source": [
    "df.describe()"
   ]
  },
  {
   "cell_type": "code",
   "execution_count": 17,
   "id": "passive-short",
   "metadata": {},
   "outputs": [
    {
     "data": {
      "text/html": [
       "<div>\n",
       "<style scoped>\n",
       "    .dataframe tbody tr th:only-of-type {\n",
       "        vertical-align: middle;\n",
       "    }\n",
       "\n",
       "    .dataframe tbody tr th {\n",
       "        vertical-align: top;\n",
       "    }\n",
       "\n",
       "    .dataframe thead th {\n",
       "        text-align: right;\n",
       "    }\n",
       "</style>\n",
       "<table border=\"1\" class=\"dataframe\">\n",
       "  <thead>\n",
       "    <tr style=\"text-align: right;\">\n",
       "      <th></th>\n",
       "      <th>offer_accepted</th>\n",
       "      <th>reward</th>\n",
       "      <th>mailer_type</th>\n",
       "      <th>income_level</th>\n",
       "      <th>bank_accounts_open</th>\n",
       "      <th>overdraft_protection</th>\n",
       "      <th>credit_rating</th>\n",
       "      <th>credit_cards_held</th>\n",
       "      <th>homes_owned</th>\n",
       "      <th>household_size</th>\n",
       "      <th>own_your_home</th>\n",
       "      <th>average_balance</th>\n",
       "      <th>q1_balance</th>\n",
       "      <th>q2_balance</th>\n",
       "      <th>q3_balance</th>\n",
       "      <th>q4_balance</th>\n",
       "    </tr>\n",
       "  </thead>\n",
       "  <tbody>\n",
       "    <tr>\n",
       "      <th>0</th>\n",
       "      <td>No</td>\n",
       "      <td>Air Miles</td>\n",
       "      <td>Letter</td>\n",
       "      <td>High</td>\n",
       "      <td>1</td>\n",
       "      <td>No</td>\n",
       "      <td>High</td>\n",
       "      <td>2</td>\n",
       "      <td>1</td>\n",
       "      <td>4</td>\n",
       "      <td>No</td>\n",
       "      <td>1160.75</td>\n",
       "      <td>1669.0</td>\n",
       "      <td>877.0</td>\n",
       "      <td>1095.0</td>\n",
       "      <td>1002.0</td>\n",
       "    </tr>\n",
       "    <tr>\n",
       "      <th>1</th>\n",
       "      <td>No</td>\n",
       "      <td>Air Miles</td>\n",
       "      <td>Letter</td>\n",
       "      <td>Medium</td>\n",
       "      <td>1</td>\n",
       "      <td>No</td>\n",
       "      <td>Medium</td>\n",
       "      <td>2</td>\n",
       "      <td>2</td>\n",
       "      <td>5</td>\n",
       "      <td>Yes</td>\n",
       "      <td>147.25</td>\n",
       "      <td>39.0</td>\n",
       "      <td>106.0</td>\n",
       "      <td>78.0</td>\n",
       "      <td>366.0</td>\n",
       "    </tr>\n",
       "    <tr>\n",
       "      <th>2</th>\n",
       "      <td>No</td>\n",
       "      <td>Air Miles</td>\n",
       "      <td>Postcard</td>\n",
       "      <td>High</td>\n",
       "      <td>2</td>\n",
       "      <td>No</td>\n",
       "      <td>Medium</td>\n",
       "      <td>2</td>\n",
       "      <td>1</td>\n",
       "      <td>2</td>\n",
       "      <td>Yes</td>\n",
       "      <td>276.50</td>\n",
       "      <td>367.0</td>\n",
       "      <td>352.0</td>\n",
       "      <td>145.0</td>\n",
       "      <td>242.0</td>\n",
       "    </tr>\n",
       "    <tr>\n",
       "      <th>3</th>\n",
       "      <td>No</td>\n",
       "      <td>Air Miles</td>\n",
       "      <td>Letter</td>\n",
       "      <td>Medium</td>\n",
       "      <td>2</td>\n",
       "      <td>No</td>\n",
       "      <td>High</td>\n",
       "      <td>1</td>\n",
       "      <td>1</td>\n",
       "      <td>4</td>\n",
       "      <td>No</td>\n",
       "      <td>1219.00</td>\n",
       "      <td>1578.0</td>\n",
       "      <td>1760.0</td>\n",
       "      <td>1119.0</td>\n",
       "      <td>419.0</td>\n",
       "    </tr>\n",
       "    <tr>\n",
       "      <th>4</th>\n",
       "      <td>No</td>\n",
       "      <td>Air Miles</td>\n",
       "      <td>Letter</td>\n",
       "      <td>Medium</td>\n",
       "      <td>1</td>\n",
       "      <td>No</td>\n",
       "      <td>Medium</td>\n",
       "      <td>2</td>\n",
       "      <td>1</td>\n",
       "      <td>6</td>\n",
       "      <td>Yes</td>\n",
       "      <td>1211.00</td>\n",
       "      <td>2140.0</td>\n",
       "      <td>1357.0</td>\n",
       "      <td>982.0</td>\n",
       "      <td>365.0</td>\n",
       "    </tr>\n",
       "    <tr>\n",
       "      <th>...</th>\n",
       "      <td>...</td>\n",
       "      <td>...</td>\n",
       "      <td>...</td>\n",
       "      <td>...</td>\n",
       "      <td>...</td>\n",
       "      <td>...</td>\n",
       "      <td>...</td>\n",
       "      <td>...</td>\n",
       "      <td>...</td>\n",
       "      <td>...</td>\n",
       "      <td>...</td>\n",
       "      <td>...</td>\n",
       "      <td>...</td>\n",
       "      <td>...</td>\n",
       "      <td>...</td>\n",
       "      <td>...</td>\n",
       "    </tr>\n",
       "    <tr>\n",
       "      <th>17995</th>\n",
       "      <td>No</td>\n",
       "      <td>Cash Back</td>\n",
       "      <td>Letter</td>\n",
       "      <td>High</td>\n",
       "      <td>1</td>\n",
       "      <td>No</td>\n",
       "      <td>Low</td>\n",
       "      <td>1</td>\n",
       "      <td>1</td>\n",
       "      <td>5</td>\n",
       "      <td>Yes</td>\n",
       "      <td>167.50</td>\n",
       "      <td>136.0</td>\n",
       "      <td>65.0</td>\n",
       "      <td>71.0</td>\n",
       "      <td>398.0</td>\n",
       "    </tr>\n",
       "    <tr>\n",
       "      <th>17996</th>\n",
       "      <td>No</td>\n",
       "      <td>Cash Back</td>\n",
       "      <td>Letter</td>\n",
       "      <td>High</td>\n",
       "      <td>1</td>\n",
       "      <td>No</td>\n",
       "      <td>Low</td>\n",
       "      <td>3</td>\n",
       "      <td>1</td>\n",
       "      <td>3</td>\n",
       "      <td>Yes</td>\n",
       "      <td>850.50</td>\n",
       "      <td>984.0</td>\n",
       "      <td>940.0</td>\n",
       "      <td>943.0</td>\n",
       "      <td>535.0</td>\n",
       "    </tr>\n",
       "    <tr>\n",
       "      <th>17997</th>\n",
       "      <td>No</td>\n",
       "      <td>Cash Back</td>\n",
       "      <td>Letter</td>\n",
       "      <td>High</td>\n",
       "      <td>1</td>\n",
       "      <td>No</td>\n",
       "      <td>Low</td>\n",
       "      <td>2</td>\n",
       "      <td>1</td>\n",
       "      <td>4</td>\n",
       "      <td>No</td>\n",
       "      <td>1087.25</td>\n",
       "      <td>918.0</td>\n",
       "      <td>767.0</td>\n",
       "      <td>1170.0</td>\n",
       "      <td>1494.0</td>\n",
       "    </tr>\n",
       "    <tr>\n",
       "      <th>17998</th>\n",
       "      <td>No</td>\n",
       "      <td>Cash Back</td>\n",
       "      <td>Letter</td>\n",
       "      <td>Medium</td>\n",
       "      <td>1</td>\n",
       "      <td>No</td>\n",
       "      <td>Medium</td>\n",
       "      <td>4</td>\n",
       "      <td>2</td>\n",
       "      <td>2</td>\n",
       "      <td>Yes</td>\n",
       "      <td>1022.25</td>\n",
       "      <td>626.0</td>\n",
       "      <td>983.0</td>\n",
       "      <td>865.0</td>\n",
       "      <td>1615.0</td>\n",
       "    </tr>\n",
       "    <tr>\n",
       "      <th>17999</th>\n",
       "      <td>No</td>\n",
       "      <td>Cash Back</td>\n",
       "      <td>Letter</td>\n",
       "      <td>Low</td>\n",
       "      <td>2</td>\n",
       "      <td>No</td>\n",
       "      <td>Medium</td>\n",
       "      <td>2</td>\n",
       "      <td>1</td>\n",
       "      <td>3</td>\n",
       "      <td>No</td>\n",
       "      <td>1056.00</td>\n",
       "      <td>265.0</td>\n",
       "      <td>1378.0</td>\n",
       "      <td>1978.0</td>\n",
       "      <td>603.0</td>\n",
       "    </tr>\n",
       "  </tbody>\n",
       "</table>\n",
       "<p>18000 rows × 16 columns</p>\n",
       "</div>"
      ],
      "text/plain": [
       "      offer_accepted     reward mailer_type income_level  bank_accounts_open  \\\n",
       "0                 No  Air Miles      Letter         High                   1   \n",
       "1                 No  Air Miles      Letter       Medium                   1   \n",
       "2                 No  Air Miles    Postcard         High                   2   \n",
       "3                 No  Air Miles      Letter       Medium                   2   \n",
       "4                 No  Air Miles      Letter       Medium                   1   \n",
       "...              ...        ...         ...          ...                 ...   \n",
       "17995             No  Cash Back      Letter         High                   1   \n",
       "17996             No  Cash Back      Letter         High                   1   \n",
       "17997             No  Cash Back      Letter         High                   1   \n",
       "17998             No  Cash Back      Letter       Medium                   1   \n",
       "17999             No  Cash Back      Letter          Low                   2   \n",
       "\n",
       "      overdraft_protection credit_rating  credit_cards_held  homes_owned  \\\n",
       "0                       No          High                  2            1   \n",
       "1                       No        Medium                  2            2   \n",
       "2                       No        Medium                  2            1   \n",
       "3                       No          High                  1            1   \n",
       "4                       No        Medium                  2            1   \n",
       "...                    ...           ...                ...          ...   \n",
       "17995                   No           Low                  1            1   \n",
       "17996                   No           Low                  3            1   \n",
       "17997                   No           Low                  2            1   \n",
       "17998                   No        Medium                  4            2   \n",
       "17999                   No        Medium                  2            1   \n",
       "\n",
       "       household_size own_your_home  average_balance  q1_balance  q2_balance  \\\n",
       "0                   4            No          1160.75      1669.0       877.0   \n",
       "1                   5           Yes           147.25        39.0       106.0   \n",
       "2                   2           Yes           276.50       367.0       352.0   \n",
       "3                   4            No          1219.00      1578.0      1760.0   \n",
       "4                   6           Yes          1211.00      2140.0      1357.0   \n",
       "...               ...           ...              ...         ...         ...   \n",
       "17995               5           Yes           167.50       136.0        65.0   \n",
       "17996               3           Yes           850.50       984.0       940.0   \n",
       "17997               4            No          1087.25       918.0       767.0   \n",
       "17998               2           Yes          1022.25       626.0       983.0   \n",
       "17999               3            No          1056.00       265.0      1378.0   \n",
       "\n",
       "       q3_balance  q4_balance  \n",
       "0          1095.0      1002.0  \n",
       "1            78.0       366.0  \n",
       "2           145.0       242.0  \n",
       "3          1119.0       419.0  \n",
       "4           982.0       365.0  \n",
       "...           ...         ...  \n",
       "17995        71.0       398.0  \n",
       "17996       943.0       535.0  \n",
       "17997      1170.0      1494.0  \n",
       "17998       865.0      1615.0  \n",
       "17999      1978.0       603.0  \n",
       "\n",
       "[18000 rows x 16 columns]"
      ]
     },
     "execution_count": 17,
     "metadata": {},
     "output_type": "execute_result"
    }
   ],
   "source": [
    "df = df.drop(['customer_number'], axis=1)\n",
    "df"
   ]
  },
  {
   "cell_type": "markdown",
   "id": "systematic-lebanon",
   "metadata": {},
   "source": [
    "- We have the average balance. This columns shows us the same like the four columns q1_balance to q4_balance. \n",
    "- Our decision: We drop the column q1_balance to q4_balance. "
   ]
  },
  {
   "cell_type": "code",
   "execution_count": 18,
   "id": "virtual-price",
   "metadata": {},
   "outputs": [
    {
     "data": {
      "text/html": [
       "<div>\n",
       "<style scoped>\n",
       "    .dataframe tbody tr th:only-of-type {\n",
       "        vertical-align: middle;\n",
       "    }\n",
       "\n",
       "    .dataframe tbody tr th {\n",
       "        vertical-align: top;\n",
       "    }\n",
       "\n",
       "    .dataframe thead th {\n",
       "        text-align: right;\n",
       "    }\n",
       "</style>\n",
       "<table border=\"1\" class=\"dataframe\">\n",
       "  <thead>\n",
       "    <tr style=\"text-align: right;\">\n",
       "      <th></th>\n",
       "      <th>offer_accepted</th>\n",
       "      <th>reward</th>\n",
       "      <th>mailer_type</th>\n",
       "      <th>income_level</th>\n",
       "      <th>bank_accounts_open</th>\n",
       "      <th>overdraft_protection</th>\n",
       "      <th>credit_rating</th>\n",
       "      <th>credit_cards_held</th>\n",
       "      <th>homes_owned</th>\n",
       "      <th>household_size</th>\n",
       "      <th>own_your_home</th>\n",
       "      <th>average_balance</th>\n",
       "    </tr>\n",
       "  </thead>\n",
       "  <tbody>\n",
       "    <tr>\n",
       "      <th>0</th>\n",
       "      <td>No</td>\n",
       "      <td>Air Miles</td>\n",
       "      <td>Letter</td>\n",
       "      <td>High</td>\n",
       "      <td>1</td>\n",
       "      <td>No</td>\n",
       "      <td>High</td>\n",
       "      <td>2</td>\n",
       "      <td>1</td>\n",
       "      <td>4</td>\n",
       "      <td>No</td>\n",
       "      <td>1160.75</td>\n",
       "    </tr>\n",
       "    <tr>\n",
       "      <th>1</th>\n",
       "      <td>No</td>\n",
       "      <td>Air Miles</td>\n",
       "      <td>Letter</td>\n",
       "      <td>Medium</td>\n",
       "      <td>1</td>\n",
       "      <td>No</td>\n",
       "      <td>Medium</td>\n",
       "      <td>2</td>\n",
       "      <td>2</td>\n",
       "      <td>5</td>\n",
       "      <td>Yes</td>\n",
       "      <td>147.25</td>\n",
       "    </tr>\n",
       "    <tr>\n",
       "      <th>2</th>\n",
       "      <td>No</td>\n",
       "      <td>Air Miles</td>\n",
       "      <td>Postcard</td>\n",
       "      <td>High</td>\n",
       "      <td>2</td>\n",
       "      <td>No</td>\n",
       "      <td>Medium</td>\n",
       "      <td>2</td>\n",
       "      <td>1</td>\n",
       "      <td>2</td>\n",
       "      <td>Yes</td>\n",
       "      <td>276.50</td>\n",
       "    </tr>\n",
       "    <tr>\n",
       "      <th>3</th>\n",
       "      <td>No</td>\n",
       "      <td>Air Miles</td>\n",
       "      <td>Letter</td>\n",
       "      <td>Medium</td>\n",
       "      <td>2</td>\n",
       "      <td>No</td>\n",
       "      <td>High</td>\n",
       "      <td>1</td>\n",
       "      <td>1</td>\n",
       "      <td>4</td>\n",
       "      <td>No</td>\n",
       "      <td>1219.00</td>\n",
       "    </tr>\n",
       "    <tr>\n",
       "      <th>4</th>\n",
       "      <td>No</td>\n",
       "      <td>Air Miles</td>\n",
       "      <td>Letter</td>\n",
       "      <td>Medium</td>\n",
       "      <td>1</td>\n",
       "      <td>No</td>\n",
       "      <td>Medium</td>\n",
       "      <td>2</td>\n",
       "      <td>1</td>\n",
       "      <td>6</td>\n",
       "      <td>Yes</td>\n",
       "      <td>1211.00</td>\n",
       "    </tr>\n",
       "    <tr>\n",
       "      <th>...</th>\n",
       "      <td>...</td>\n",
       "      <td>...</td>\n",
       "      <td>...</td>\n",
       "      <td>...</td>\n",
       "      <td>...</td>\n",
       "      <td>...</td>\n",
       "      <td>...</td>\n",
       "      <td>...</td>\n",
       "      <td>...</td>\n",
       "      <td>...</td>\n",
       "      <td>...</td>\n",
       "      <td>...</td>\n",
       "    </tr>\n",
       "    <tr>\n",
       "      <th>17995</th>\n",
       "      <td>No</td>\n",
       "      <td>Cash Back</td>\n",
       "      <td>Letter</td>\n",
       "      <td>High</td>\n",
       "      <td>1</td>\n",
       "      <td>No</td>\n",
       "      <td>Low</td>\n",
       "      <td>1</td>\n",
       "      <td>1</td>\n",
       "      <td>5</td>\n",
       "      <td>Yes</td>\n",
       "      <td>167.50</td>\n",
       "    </tr>\n",
       "    <tr>\n",
       "      <th>17996</th>\n",
       "      <td>No</td>\n",
       "      <td>Cash Back</td>\n",
       "      <td>Letter</td>\n",
       "      <td>High</td>\n",
       "      <td>1</td>\n",
       "      <td>No</td>\n",
       "      <td>Low</td>\n",
       "      <td>3</td>\n",
       "      <td>1</td>\n",
       "      <td>3</td>\n",
       "      <td>Yes</td>\n",
       "      <td>850.50</td>\n",
       "    </tr>\n",
       "    <tr>\n",
       "      <th>17997</th>\n",
       "      <td>No</td>\n",
       "      <td>Cash Back</td>\n",
       "      <td>Letter</td>\n",
       "      <td>High</td>\n",
       "      <td>1</td>\n",
       "      <td>No</td>\n",
       "      <td>Low</td>\n",
       "      <td>2</td>\n",
       "      <td>1</td>\n",
       "      <td>4</td>\n",
       "      <td>No</td>\n",
       "      <td>1087.25</td>\n",
       "    </tr>\n",
       "    <tr>\n",
       "      <th>17998</th>\n",
       "      <td>No</td>\n",
       "      <td>Cash Back</td>\n",
       "      <td>Letter</td>\n",
       "      <td>Medium</td>\n",
       "      <td>1</td>\n",
       "      <td>No</td>\n",
       "      <td>Medium</td>\n",
       "      <td>4</td>\n",
       "      <td>2</td>\n",
       "      <td>2</td>\n",
       "      <td>Yes</td>\n",
       "      <td>1022.25</td>\n",
       "    </tr>\n",
       "    <tr>\n",
       "      <th>17999</th>\n",
       "      <td>No</td>\n",
       "      <td>Cash Back</td>\n",
       "      <td>Letter</td>\n",
       "      <td>Low</td>\n",
       "      <td>2</td>\n",
       "      <td>No</td>\n",
       "      <td>Medium</td>\n",
       "      <td>2</td>\n",
       "      <td>1</td>\n",
       "      <td>3</td>\n",
       "      <td>No</td>\n",
       "      <td>1056.00</td>\n",
       "    </tr>\n",
       "  </tbody>\n",
       "</table>\n",
       "<p>18000 rows × 12 columns</p>\n",
       "</div>"
      ],
      "text/plain": [
       "      offer_accepted     reward mailer_type income_level  bank_accounts_open  \\\n",
       "0                 No  Air Miles      Letter         High                   1   \n",
       "1                 No  Air Miles      Letter       Medium                   1   \n",
       "2                 No  Air Miles    Postcard         High                   2   \n",
       "3                 No  Air Miles      Letter       Medium                   2   \n",
       "4                 No  Air Miles      Letter       Medium                   1   \n",
       "...              ...        ...         ...          ...                 ...   \n",
       "17995             No  Cash Back      Letter         High                   1   \n",
       "17996             No  Cash Back      Letter         High                   1   \n",
       "17997             No  Cash Back      Letter         High                   1   \n",
       "17998             No  Cash Back      Letter       Medium                   1   \n",
       "17999             No  Cash Back      Letter          Low                   2   \n",
       "\n",
       "      overdraft_protection credit_rating  credit_cards_held  homes_owned  \\\n",
       "0                       No          High                  2            1   \n",
       "1                       No        Medium                  2            2   \n",
       "2                       No        Medium                  2            1   \n",
       "3                       No          High                  1            1   \n",
       "4                       No        Medium                  2            1   \n",
       "...                    ...           ...                ...          ...   \n",
       "17995                   No           Low                  1            1   \n",
       "17996                   No           Low                  3            1   \n",
       "17997                   No           Low                  2            1   \n",
       "17998                   No        Medium                  4            2   \n",
       "17999                   No        Medium                  2            1   \n",
       "\n",
       "       household_size own_your_home  average_balance  \n",
       "0                   4            No          1160.75  \n",
       "1                   5           Yes           147.25  \n",
       "2                   2           Yes           276.50  \n",
       "3                   4            No          1219.00  \n",
       "4                   6           Yes          1211.00  \n",
       "...               ...           ...              ...  \n",
       "17995               5           Yes           167.50  \n",
       "17996               3           Yes           850.50  \n",
       "17997               4            No          1087.25  \n",
       "17998               2           Yes          1022.25  \n",
       "17999               3            No          1056.00  \n",
       "\n",
       "[18000 rows x 12 columns]"
      ]
     },
     "execution_count": 18,
     "metadata": {},
     "output_type": "execute_result"
    }
   ],
   "source": [
    "df = df.drop(['q1_balance', 'q2_balance','q3_balance','q4_balance'], axis=1)\n",
    "df"
   ]
  },
  {
   "cell_type": "markdown",
   "id": "chicken-weekend",
   "metadata": {},
   "source": [
    "- check the Missing Valuse again"
   ]
  },
  {
   "cell_type": "code",
   "execution_count": 19,
   "id": "satisfactory-sullivan",
   "metadata": {},
   "outputs": [
    {
     "data": {
      "text/plain": [
       "offer_accepted          0\n",
       "reward                  0\n",
       "mailer_type             0\n",
       "income_level            0\n",
       "bank_accounts_open      0\n",
       "overdraft_protection    0\n",
       "credit_rating           0\n",
       "credit_cards_held       0\n",
       "homes_owned             0\n",
       "household_size          0\n",
       "own_your_home           0\n",
       "average_balance         0\n",
       "dtype: int64"
      ]
     },
     "execution_count": 19,
     "metadata": {},
     "output_type": "execute_result"
    }
   ],
   "source": [
    "df.isnull().sum()"
   ]
  },
  {
   "cell_type": "markdown",
   "id": "similar-buyer",
   "metadata": {},
   "source": [
    "## Step 3: Explore the data"
   ]
  },
  {
   "cell_type": "markdown",
   "id": "activated-elements",
   "metadata": {},
   "source": [
    "- numerical data\n",
    "- create a df only with numerical data"
   ]
  },
  {
   "cell_type": "code",
   "execution_count": 20,
   "id": "southern-somalia",
   "metadata": {},
   "outputs": [
    {
     "data": {
      "text/html": [
       "<div>\n",
       "<style scoped>\n",
       "    .dataframe tbody tr th:only-of-type {\n",
       "        vertical-align: middle;\n",
       "    }\n",
       "\n",
       "    .dataframe tbody tr th {\n",
       "        vertical-align: top;\n",
       "    }\n",
       "\n",
       "    .dataframe thead th {\n",
       "        text-align: right;\n",
       "    }\n",
       "</style>\n",
       "<table border=\"1\" class=\"dataframe\">\n",
       "  <thead>\n",
       "    <tr style=\"text-align: right;\">\n",
       "      <th></th>\n",
       "      <th>bank_accounts_open</th>\n",
       "      <th>credit_cards_held</th>\n",
       "      <th>homes_owned</th>\n",
       "      <th>household_size</th>\n",
       "      <th>average_balance</th>\n",
       "    </tr>\n",
       "  </thead>\n",
       "  <tbody>\n",
       "    <tr>\n",
       "      <th>0</th>\n",
       "      <td>1</td>\n",
       "      <td>2</td>\n",
       "      <td>1</td>\n",
       "      <td>4</td>\n",
       "      <td>1160.75</td>\n",
       "    </tr>\n",
       "    <tr>\n",
       "      <th>1</th>\n",
       "      <td>1</td>\n",
       "      <td>2</td>\n",
       "      <td>2</td>\n",
       "      <td>5</td>\n",
       "      <td>147.25</td>\n",
       "    </tr>\n",
       "    <tr>\n",
       "      <th>2</th>\n",
       "      <td>2</td>\n",
       "      <td>2</td>\n",
       "      <td>1</td>\n",
       "      <td>2</td>\n",
       "      <td>276.50</td>\n",
       "    </tr>\n",
       "    <tr>\n",
       "      <th>3</th>\n",
       "      <td>2</td>\n",
       "      <td>1</td>\n",
       "      <td>1</td>\n",
       "      <td>4</td>\n",
       "      <td>1219.00</td>\n",
       "    </tr>\n",
       "    <tr>\n",
       "      <th>4</th>\n",
       "      <td>1</td>\n",
       "      <td>2</td>\n",
       "      <td>1</td>\n",
       "      <td>6</td>\n",
       "      <td>1211.00</td>\n",
       "    </tr>\n",
       "    <tr>\n",
       "      <th>...</th>\n",
       "      <td>...</td>\n",
       "      <td>...</td>\n",
       "      <td>...</td>\n",
       "      <td>...</td>\n",
       "      <td>...</td>\n",
       "    </tr>\n",
       "    <tr>\n",
       "      <th>17995</th>\n",
       "      <td>1</td>\n",
       "      <td>1</td>\n",
       "      <td>1</td>\n",
       "      <td>5</td>\n",
       "      <td>167.50</td>\n",
       "    </tr>\n",
       "    <tr>\n",
       "      <th>17996</th>\n",
       "      <td>1</td>\n",
       "      <td>3</td>\n",
       "      <td>1</td>\n",
       "      <td>3</td>\n",
       "      <td>850.50</td>\n",
       "    </tr>\n",
       "    <tr>\n",
       "      <th>17997</th>\n",
       "      <td>1</td>\n",
       "      <td>2</td>\n",
       "      <td>1</td>\n",
       "      <td>4</td>\n",
       "      <td>1087.25</td>\n",
       "    </tr>\n",
       "    <tr>\n",
       "      <th>17998</th>\n",
       "      <td>1</td>\n",
       "      <td>4</td>\n",
       "      <td>2</td>\n",
       "      <td>2</td>\n",
       "      <td>1022.25</td>\n",
       "    </tr>\n",
       "    <tr>\n",
       "      <th>17999</th>\n",
       "      <td>2</td>\n",
       "      <td>2</td>\n",
       "      <td>1</td>\n",
       "      <td>3</td>\n",
       "      <td>1056.00</td>\n",
       "    </tr>\n",
       "  </tbody>\n",
       "</table>\n",
       "<p>18000 rows × 5 columns</p>\n",
       "</div>"
      ],
      "text/plain": [
       "       bank_accounts_open  credit_cards_held  homes_owned  household_size  \\\n",
       "0                       1                  2            1               4   \n",
       "1                       1                  2            2               5   \n",
       "2                       2                  2            1               2   \n",
       "3                       2                  1            1               4   \n",
       "4                       1                  2            1               6   \n",
       "...                   ...                ...          ...             ...   \n",
       "17995                   1                  1            1               5   \n",
       "17996                   1                  3            1               3   \n",
       "17997                   1                  2            1               4   \n",
       "17998                   1                  4            2               2   \n",
       "17999                   2                  2            1               3   \n",
       "\n",
       "       average_balance  \n",
       "0              1160.75  \n",
       "1               147.25  \n",
       "2               276.50  \n",
       "3              1219.00  \n",
       "4              1211.00  \n",
       "...                ...  \n",
       "17995           167.50  \n",
       "17996           850.50  \n",
       "17997          1087.25  \n",
       "17998          1022.25  \n",
       "17999          1056.00  \n",
       "\n",
       "[18000 rows x 5 columns]"
      ]
     },
     "execution_count": 20,
     "metadata": {},
     "output_type": "execute_result"
    }
   ],
   "source": [
    "df_num = df.select_dtypes(include = np.number)\n",
    "df_num"
   ]
  },
  {
   "cell_type": "code",
   "execution_count": 21,
   "id": "preceding-lingerie",
   "metadata": {},
   "outputs": [
    {
     "data": {
      "text/plain": [
       "(18000, 5)"
      ]
     },
     "execution_count": 21,
     "metadata": {},
     "output_type": "execute_result"
    }
   ],
   "source": [
    "df_num.shape"
   ]
  },
  {
   "cell_type": "code",
   "execution_count": 22,
   "id": "rocky-geography",
   "metadata": {},
   "outputs": [
    {
     "data": {
      "text/plain": [
       "<AxesSubplot:xlabel='average_balance'>"
      ]
     },
     "execution_count": 22,
     "metadata": {},
     "output_type": "execute_result"
    },
    {
     "data": {
      "image/png": "[encoded data removed]",
      "text/plain": [
       "<Figure size 432x288 with 1 Axes>"
      ]
     },
     "metadata": {
      "needs_background": "light"
     },
     "output_type": "display_data"
    }
   ],
   "source": [
    "sns.boxplot(x=df_num['average_balance'])"
   ]
  },
  {
   "cell_type": "code",
   "execution_count": 23,
   "id": "aquatic-integral",
   "metadata": {},
   "outputs": [
    {
     "data": {
      "text/plain": [
       "array([[<AxesSubplot:title={'center':'bank_accounts_open'}>,\n",
       "        <AxesSubplot:title={'center':'credit_cards_held'}>,\n",
       "        <AxesSubplot:title={'center':'homes_owned'}>,\n",
       "        <AxesSubplot:title={'center':'household_size'}>],\n",
       "       [<AxesSubplot:title={'center':'average_balance'}>, <AxesSubplot:>,\n",
       "        <AxesSubplot:>, <AxesSubplot:>]], dtype=object)"
      ]
     },
     "execution_count": 23,
     "metadata": {},
     "output_type": "execute_result"
    },
    {
     "data": {
      "image/png": "[encoded data removed]",
      "text/plain": [
       "<Figure size 1080x432 with 8 Axes>"
      ]
     },
     "metadata": {
      "needs_background": "light"
     },
     "output_type": "display_data"
    }
   ],
   "source": [
    "df_num.hist(bins=15,figsize=(15,6), layout=(2,4))"
   ]
  },
  {
   "cell_type": "code",
   "execution_count": 24,
   "id": "directed-winning",
   "metadata": {},
   "outputs": [
    {
     "data": {
      "image/png": "[encoded data removed]",
      "text/plain": [
       "<Figure size 720x360 with 1 Axes>"
      ]
     },
     "metadata": {
      "needs_background": "light"
     },
     "output_type": "display_data"
    },
    {
     "data": {
      "image/png": "[encoded data removed]",
      "text/plain": [
       "<Figure size 720x360 with 1 Axes>"
      ]
     },
     "metadata": {
      "needs_background": "light"
     },
     "output_type": "display_data"
    },
    {
     "data": {
      "image/png": "[encoded data removed]",
      "text/plain": [
       "<Figure size 720x360 with 1 Axes>"
      ]
     },
     "metadata": {
      "needs_background": "light"
     },
     "output_type": "display_data"
    },
    {
     "data": {
      "image/png": "[encoded data removed]",
      "text/plain": [
       "<Figure size 720x360 with 1 Axes>"
      ]
     },
     "metadata": {
      "needs_background": "light"
     },
     "output_type": "display_data"
    },
    {
     "data": {
      "image/png": "[encoded data removed]",
      "text/plain": [
       "<Figure size 720x360 with 1 Axes>"
      ]
     },
     "metadata": {
      "needs_background": "light"
     },
     "output_type": "display_data"
    }
   ],
   "source": [
    "for c in df_num:\n",
    "    plt.figure(figsize=(10,5))\n",
    "    plt.bar(df_num[c].unique(), df_num[c].value_counts())\n",
    "    plt.title(c)\n",
    "    plt.show();"
   ]
  },
  {
   "cell_type": "markdown",
   "id": "advised-password",
   "metadata": {},
   "source": [
    "- check the categorical data\n",
    "- create a df only with categorical data"
   ]
  },
  {
   "cell_type": "code",
   "execution_count": 25,
   "id": "confused-booth",
   "metadata": {},
   "outputs": [
    {
     "data": {
      "text/html": [
       "<div>\n",
       "<style scoped>\n",
       "    .dataframe tbody tr th:only-of-type {\n",
       "        vertical-align: middle;\n",
       "    }\n",
       "\n",
       "    .dataframe tbody tr th {\n",
       "        vertical-align: top;\n",
       "    }\n",
       "\n",
       "    .dataframe thead th {\n",
       "        text-align: right;\n",
       "    }\n",
       "</style>\n",
       "<table border=\"1\" class=\"dataframe\">\n",
       "  <thead>\n",
       "    <tr style=\"text-align: right;\">\n",
       "      <th></th>\n",
       "      <th>offer_accepted</th>\n",
       "      <th>reward</th>\n",
       "      <th>mailer_type</th>\n",
       "      <th>income_level</th>\n",
       "      <th>overdraft_protection</th>\n",
       "      <th>credit_rating</th>\n",
       "      <th>own_your_home</th>\n",
       "    </tr>\n",
       "  </thead>\n",
       "  <tbody>\n",
       "    <tr>\n",
       "      <th>0</th>\n",
       "      <td>No</td>\n",
       "      <td>Air Miles</td>\n",
       "      <td>Letter</td>\n",
       "      <td>High</td>\n",
       "      <td>No</td>\n",
       "      <td>High</td>\n",
       "      <td>No</td>\n",
       "    </tr>\n",
       "    <tr>\n",
       "      <th>1</th>\n",
       "      <td>No</td>\n",
       "      <td>Air Miles</td>\n",
       "      <td>Letter</td>\n",
       "      <td>Medium</td>\n",
       "      <td>No</td>\n",
       "      <td>Medium</td>\n",
       "      <td>Yes</td>\n",
       "    </tr>\n",
       "    <tr>\n",
       "      <th>2</th>\n",
       "      <td>No</td>\n",
       "      <td>Air Miles</td>\n",
       "      <td>Postcard</td>\n",
       "      <td>High</td>\n",
       "      <td>No</td>\n",
       "      <td>Medium</td>\n",
       "      <td>Yes</td>\n",
       "    </tr>\n",
       "    <tr>\n",
       "      <th>3</th>\n",
       "      <td>No</td>\n",
       "      <td>Air Miles</td>\n",
       "      <td>Letter</td>\n",
       "      <td>Medium</td>\n",
       "      <td>No</td>\n",
       "      <td>High</td>\n",
       "      <td>No</td>\n",
       "    </tr>\n",
       "    <tr>\n",
       "      <th>4</th>\n",
       "      <td>No</td>\n",
       "      <td>Air Miles</td>\n",
       "      <td>Letter</td>\n",
       "      <td>Medium</td>\n",
       "      <td>No</td>\n",
       "      <td>Medium</td>\n",
       "      <td>Yes</td>\n",
       "    </tr>\n",
       "    <tr>\n",
       "      <th>...</th>\n",
       "      <td>...</td>\n",
       "      <td>...</td>\n",
       "      <td>...</td>\n",
       "      <td>...</td>\n",
       "      <td>...</td>\n",
       "      <td>...</td>\n",
       "      <td>...</td>\n",
       "    </tr>\n",
       "    <tr>\n",
       "      <th>17995</th>\n",
       "      <td>No</td>\n",
       "      <td>Cash Back</td>\n",
       "      <td>Letter</td>\n",
       "      <td>High</td>\n",
       "      <td>No</td>\n",
       "      <td>Low</td>\n",
       "      <td>Yes</td>\n",
       "    </tr>\n",
       "    <tr>\n",
       "      <th>17996</th>\n",
       "      <td>No</td>\n",
       "      <td>Cash Back</td>\n",
       "      <td>Letter</td>\n",
       "      <td>High</td>\n",
       "      <td>No</td>\n",
       "      <td>Low</td>\n",
       "      <td>Yes</td>\n",
       "    </tr>\n",
       "    <tr>\n",
       "      <th>17997</th>\n",
       "      <td>No</td>\n",
       "      <td>Cash Back</td>\n",
       "      <td>Letter</td>\n",
       "      <td>High</td>\n",
       "      <td>No</td>\n",
       "      <td>Low</td>\n",
       "      <td>No</td>\n",
       "    </tr>\n",
       "    <tr>\n",
       "      <th>17998</th>\n",
       "      <td>No</td>\n",
       "      <td>Cash Back</td>\n",
       "      <td>Letter</td>\n",
       "      <td>Medium</td>\n",
       "      <td>No</td>\n",
       "      <td>Medium</td>\n",
       "      <td>Yes</td>\n",
       "    </tr>\n",
       "    <tr>\n",
       "      <th>17999</th>\n",
       "      <td>No</td>\n",
       "      <td>Cash Back</td>\n",
       "      <td>Letter</td>\n",
       "      <td>Low</td>\n",
       "      <td>No</td>\n",
       "      <td>Medium</td>\n",
       "      <td>No</td>\n",
       "    </tr>\n",
       "  </tbody>\n",
       "</table>\n",
       "<p>18000 rows × 7 columns</p>\n",
       "</div>"
      ],
      "text/plain": [
       "      offer_accepted     reward mailer_type income_level overdraft_protection  \\\n",
       "0                 No  Air Miles      Letter         High                   No   \n",
       "1                 No  Air Miles      Letter       Medium                   No   \n",
       "2                 No  Air Miles    Postcard         High                   No   \n",
       "3                 No  Air Miles      Letter       Medium                   No   \n",
       "4                 No  Air Miles      Letter       Medium                   No   \n",
       "...              ...        ...         ...          ...                  ...   \n",
       "17995             No  Cash Back      Letter         High                   No   \n",
       "17996             No  Cash Back      Letter         High                   No   \n",
       "17997             No  Cash Back      Letter         High                   No   \n",
       "17998             No  Cash Back      Letter       Medium                   No   \n",
       "17999             No  Cash Back      Letter          Low                   No   \n",
       "\n",
       "      credit_rating own_your_home  \n",
       "0              High            No  \n",
       "1            Medium           Yes  \n",
       "2            Medium           Yes  \n",
       "3              High            No  \n",
       "4            Medium           Yes  \n",
       "...             ...           ...  \n",
       "17995           Low           Yes  \n",
       "17996           Low           Yes  \n",
       "17997           Low            No  \n",
       "17998        Medium           Yes  \n",
       "17999        Medium            No  \n",
       "\n",
       "[18000 rows x 7 columns]"
      ]
     },
     "execution_count": 25,
     "metadata": {},
     "output_type": "execute_result"
    }
   ],
   "source": [
    "df_cat = df.select_dtypes(include = np.object)\n",
    "df_cat"
   ]
  },
  {
   "cell_type": "code",
   "execution_count": 26,
   "id": "egyptian-discharge",
   "metadata": {},
   "outputs": [
    {
     "data": {
      "text/plain": [
       "(18000, 7)"
      ]
     },
     "execution_count": 26,
     "metadata": {},
     "output_type": "execute_result"
    }
   ],
   "source": [
    "df_cat.shape"
   ]
  },
  {
   "cell_type": "code",
   "execution_count": 27,
   "id": "standard-coffee",
   "metadata": {},
   "outputs": [
    {
     "name": "stdout",
     "output_type": "stream",
     "text": [
      "Frequency analysis of column:  offer_accepted\n",
      "Frequency analysis of column:  reward\n",
      "Frequency analysis of column:  mailer_type\n",
      "Frequency analysis of column:  income_level\n",
      "Frequency analysis of column:  overdraft_protection\n",
      "Frequency analysis of column:  credit_rating\n",
      "Frequency analysis of column:  own_your_home\n"
     ]
    },
    {
     "data": {
      "image/png": "[encoded data removed]",
      "text/plain": [
       "<Figure size 432x288 with 1 Axes>"
      ]
     },
     "metadata": {
      "needs_background": "light"
     },
     "output_type": "display_data"
    },
    {
     "data": {
      "image/png": "[encoded data removed]",
      "text/plain": [
       "<Figure size 432x288 with 1 Axes>"
      ]
     },
     "metadata": {
      "needs_background": "light"
     },
     "output_type": "display_data"
    },
    {
     "data": {
      "image/png": "[encoded data removed]",
      "text/plain": [
       "<Figure size 432x288 with 1 Axes>"
      ]
     },
     "metadata": {
      "needs_background": "light"
     },
     "output_type": "display_data"
    },
    {
     "data": {
      "image/png": "[encoded data removed]",
      "text/plain": [
       "<Figure size 432x288 with 1 Axes>"
      ]
     },
     "metadata": {
      "needs_background": "light"
     },
     "output_type": "display_data"
    },
    {
     "data": {
      "image/png": "[encoded data removed]",
      "text/plain": [
       "<Figure size 432x288 with 1 Axes>"
      ]
     },
     "metadata": {
      "needs_background": "light"
     },
     "output_type": "display_data"
    },
    {
     "data": {
      "image/png": "[encoded data removed]",
      "text/plain": [
       "<Figure size 432x288 with 1 Axes>"
      ]
     },
     "metadata": {
      "needs_background": "light"
     },
     "output_type": "display_data"
    },
    {
     "data": {
      "image/png": "[encoded data removed]",
      "text/plain": [
       "<Figure size 432x288 with 1 Axes>"
      ]
     },
     "metadata": {
      "needs_background": "light"
     },
     "output_type": "display_data"
    },
    {
     "data": {
      "text/plain": [
       "<Figure size 432x288 with 0 Axes>"
      ]
     },
     "metadata": {},
     "output_type": "display_data"
    }
   ],
   "source": [
    "cols_cat = list(df_cat.select_dtypes(include=['object']).columns)\n",
    "\n",
    "for col in cols_cat:\n",
    "    print(\"Frequency analysis of column: \",col)\n",
    "    my_data = df[col].value_counts().reset_index()\n",
    "    ax = sns.barplot(x=col, y=\"index\", data = my_data).set_title(col.upper())\n",
    "    plt.figure()\n",
    "    print"
   ]
  },
  {
   "cell_type": "code",
   "execution_count": 28,
   "id": "gorgeous-commerce",
   "metadata": {},
   "outputs": [
    {
     "data": {
      "text/plain": [
       "<AxesSubplot:xlabel='offer_accepted', ylabel='average_balance'>"
      ]
     },
     "execution_count": 28,
     "metadata": {},
     "output_type": "execute_result"
    },
    {
     "data": {
      "image/png": "[encoded data removed]",
      "text/plain": [
       "<Figure size 432x288 with 1 Axes>"
      ]
     },
     "metadata": {
      "needs_background": "light"
     },
     "output_type": "display_data"
    }
   ],
   "source": [
    "sns.boxplot(x=df['offer_accepted'], y=df['average_balance'])"
   ]
  },
  {
   "cell_type": "markdown",
   "id": "basic-ownership",
   "metadata": {},
   "source": [
    "Result column average balance The boxplot shows a lot of outliers in the average_balanced. We will try to discover the influence of the outliers of the accuracy of our model. Because the imbalanced step will improve our dataset for a better model accuracy. And that could be happen by doing reduce the dataset. If we drop the outliers we will reduce the dataset too. So we will create three datasets:\n",
    "1. All outliers stays in the data set.\n",
    "2. We drop all outliers with the IQR-Limits.\n",
    "3. we drop the outliers only with a 95 % upper limit and a 5% lower limit.\n",
    "\n",
    "- Our decision: We keep the outliers."
   ]
  },
  {
   "cell_type": "markdown",
   "id": "running-liverpool",
   "metadata": {},
   "source": [
    "## Pre-Processing"
   ]
  },
  {
   "cell_type": "markdown",
   "id": "going-recovery",
   "metadata": {},
   "source": [
    "## Encode our categorical variables"
   ]
  },
  {
   "cell_type": "markdown",
   "id": "virtual-details",
   "metadata": {},
   "source": [
    "- We do not know the relationship between your target variable and categorical features.\n",
    "- encoded tha categorical values -> get_dummies_method"
   ]
  },
  {
   "cell_type": "code",
   "execution_count": 29,
   "id": "coupled-building",
   "metadata": {},
   "outputs": [
    {
     "data": {
      "text/html": [
       "<div>\n",
       "<style scoped>\n",
       "    .dataframe tbody tr th:only-of-type {\n",
       "        vertical-align: middle;\n",
       "    }\n",
       "\n",
       "    .dataframe tbody tr th {\n",
       "        vertical-align: top;\n",
       "    }\n",
       "\n",
       "    .dataframe thead th {\n",
       "        text-align: right;\n",
       "    }\n",
       "</style>\n",
       "<table border=\"1\" class=\"dataframe\">\n",
       "  <thead>\n",
       "    <tr style=\"text-align: right;\">\n",
       "      <th></th>\n",
       "      <th>offer_accepted</th>\n",
       "      <th>reward</th>\n",
       "      <th>mailer_type</th>\n",
       "      <th>income_level</th>\n",
       "      <th>overdraft_protection</th>\n",
       "      <th>credit_rating</th>\n",
       "      <th>own_your_home</th>\n",
       "    </tr>\n",
       "  </thead>\n",
       "  <tbody>\n",
       "    <tr>\n",
       "      <th>0</th>\n",
       "      <td>No</td>\n",
       "      <td>Air Miles</td>\n",
       "      <td>Letter</td>\n",
       "      <td>High</td>\n",
       "      <td>No</td>\n",
       "      <td>High</td>\n",
       "      <td>No</td>\n",
       "    </tr>\n",
       "    <tr>\n",
       "      <th>1</th>\n",
       "      <td>No</td>\n",
       "      <td>Air Miles</td>\n",
       "      <td>Letter</td>\n",
       "      <td>Medium</td>\n",
       "      <td>No</td>\n",
       "      <td>Medium</td>\n",
       "      <td>Yes</td>\n",
       "    </tr>\n",
       "    <tr>\n",
       "      <th>2</th>\n",
       "      <td>No</td>\n",
       "      <td>Air Miles</td>\n",
       "      <td>Postcard</td>\n",
       "      <td>High</td>\n",
       "      <td>No</td>\n",
       "      <td>Medium</td>\n",
       "      <td>Yes</td>\n",
       "    </tr>\n",
       "    <tr>\n",
       "      <th>3</th>\n",
       "      <td>No</td>\n",
       "      <td>Air Miles</td>\n",
       "      <td>Letter</td>\n",
       "      <td>Medium</td>\n",
       "      <td>No</td>\n",
       "      <td>High</td>\n",
       "      <td>No</td>\n",
       "    </tr>\n",
       "    <tr>\n",
       "      <th>4</th>\n",
       "      <td>No</td>\n",
       "      <td>Air Miles</td>\n",
       "      <td>Letter</td>\n",
       "      <td>Medium</td>\n",
       "      <td>No</td>\n",
       "      <td>Medium</td>\n",
       "      <td>Yes</td>\n",
       "    </tr>\n",
       "    <tr>\n",
       "      <th>...</th>\n",
       "      <td>...</td>\n",
       "      <td>...</td>\n",
       "      <td>...</td>\n",
       "      <td>...</td>\n",
       "      <td>...</td>\n",
       "      <td>...</td>\n",
       "      <td>...</td>\n",
       "    </tr>\n",
       "    <tr>\n",
       "      <th>17995</th>\n",
       "      <td>No</td>\n",
       "      <td>Cash Back</td>\n",
       "      <td>Letter</td>\n",
       "      <td>High</td>\n",
       "      <td>No</td>\n",
       "      <td>Low</td>\n",
       "      <td>Yes</td>\n",
       "    </tr>\n",
       "    <tr>\n",
       "      <th>17996</th>\n",
       "      <td>No</td>\n",
       "      <td>Cash Back</td>\n",
       "      <td>Letter</td>\n",
       "      <td>High</td>\n",
       "      <td>No</td>\n",
       "      <td>Low</td>\n",
       "      <td>Yes</td>\n",
       "    </tr>\n",
       "    <tr>\n",
       "      <th>17997</th>\n",
       "      <td>No</td>\n",
       "      <td>Cash Back</td>\n",
       "      <td>Letter</td>\n",
       "      <td>High</td>\n",
       "      <td>No</td>\n",
       "      <td>Low</td>\n",
       "      <td>No</td>\n",
       "    </tr>\n",
       "    <tr>\n",
       "      <th>17998</th>\n",
       "      <td>No</td>\n",
       "      <td>Cash Back</td>\n",
       "      <td>Letter</td>\n",
       "      <td>Medium</td>\n",
       "      <td>No</td>\n",
       "      <td>Medium</td>\n",
       "      <td>Yes</td>\n",
       "    </tr>\n",
       "    <tr>\n",
       "      <th>17999</th>\n",
       "      <td>No</td>\n",
       "      <td>Cash Back</td>\n",
       "      <td>Letter</td>\n",
       "      <td>Low</td>\n",
       "      <td>No</td>\n",
       "      <td>Medium</td>\n",
       "      <td>No</td>\n",
       "    </tr>\n",
       "  </tbody>\n",
       "</table>\n",
       "<p>18000 rows × 7 columns</p>\n",
       "</div>"
      ],
      "text/plain": [
       "      offer_accepted     reward mailer_type income_level overdraft_protection  \\\n",
       "0                 No  Air Miles      Letter         High                   No   \n",
       "1                 No  Air Miles      Letter       Medium                   No   \n",
       "2                 No  Air Miles    Postcard         High                   No   \n",
       "3                 No  Air Miles      Letter       Medium                   No   \n",
       "4                 No  Air Miles      Letter       Medium                   No   \n",
       "...              ...        ...         ...          ...                  ...   \n",
       "17995             No  Cash Back      Letter         High                   No   \n",
       "17996             No  Cash Back      Letter         High                   No   \n",
       "17997             No  Cash Back      Letter         High                   No   \n",
       "17998             No  Cash Back      Letter       Medium                   No   \n",
       "17999             No  Cash Back      Letter          Low                   No   \n",
       "\n",
       "      credit_rating own_your_home  \n",
       "0              High            No  \n",
       "1            Medium           Yes  \n",
       "2            Medium           Yes  \n",
       "3              High            No  \n",
       "4            Medium           Yes  \n",
       "...             ...           ...  \n",
       "17995           Low           Yes  \n",
       "17996           Low           Yes  \n",
       "17997           Low            No  \n",
       "17998        Medium           Yes  \n",
       "17999        Medium            No  \n",
       "\n",
       "[18000 rows x 7 columns]"
      ]
     },
     "execution_count": 29,
     "metadata": {},
     "output_type": "execute_result"
    }
   ],
   "source": [
    "df_cat"
   ]
  },
  {
   "cell_type": "code",
   "execution_count": 30,
   "id": "pleasant-graham",
   "metadata": {},
   "outputs": [],
   "source": [
    "categorical = pd.get_dummies(df_cat,\n",
    "drop_first=True,\n",
    "columns=['offer_accepted','reward', 'mailer_type', 'income_level','overdraft_protection', 'credit_rating', 'own_your_home' ])"
   ]
  },
  {
   "cell_type": "code",
   "execution_count": 31,
   "id": "sustainable-function",
   "metadata": {},
   "outputs": [
    {
     "data": {
      "text/html": [
       "<div>\n",
       "<style scoped>\n",
       "    .dataframe tbody tr th:only-of-type {\n",
       "        vertical-align: middle;\n",
       "    }\n",
       "\n",
       "    .dataframe tbody tr th {\n",
       "        vertical-align: top;\n",
       "    }\n",
       "\n",
       "    .dataframe thead th {\n",
       "        text-align: right;\n",
       "    }\n",
       "</style>\n",
       "<table border=\"1\" class=\"dataframe\">\n",
       "  <thead>\n",
       "    <tr style=\"text-align: right;\">\n",
       "      <th></th>\n",
       "      <th>offer_accepted_Yes</th>\n",
       "      <th>reward_Cash Back</th>\n",
       "      <th>reward_Points</th>\n",
       "      <th>mailer_type_Postcard</th>\n",
       "      <th>income_level_Low</th>\n",
       "      <th>income_level_Medium</th>\n",
       "      <th>overdraft_protection_Yes</th>\n",
       "      <th>credit_rating_Low</th>\n",
       "      <th>credit_rating_Medium</th>\n",
       "      <th>own_your_home_Yes</th>\n",
       "    </tr>\n",
       "  </thead>\n",
       "  <tbody>\n",
       "    <tr>\n",
       "      <th>0</th>\n",
       "      <td>0</td>\n",
       "      <td>0</td>\n",
       "      <td>0</td>\n",
       "      <td>0</td>\n",
       "      <td>0</td>\n",
       "      <td>0</td>\n",
       "      <td>0</td>\n",
       "      <td>0</td>\n",
       "      <td>0</td>\n",
       "      <td>0</td>\n",
       "    </tr>\n",
       "    <tr>\n",
       "      <th>1</th>\n",
       "      <td>0</td>\n",
       "      <td>0</td>\n",
       "      <td>0</td>\n",
       "      <td>0</td>\n",
       "      <td>0</td>\n",
       "      <td>1</td>\n",
       "      <td>0</td>\n",
       "      <td>0</td>\n",
       "      <td>1</td>\n",
       "      <td>1</td>\n",
       "    </tr>\n",
       "    <tr>\n",
       "      <th>2</th>\n",
       "      <td>0</td>\n",
       "      <td>0</td>\n",
       "      <td>0</td>\n",
       "      <td>1</td>\n",
       "      <td>0</td>\n",
       "      <td>0</td>\n",
       "      <td>0</td>\n",
       "      <td>0</td>\n",
       "      <td>1</td>\n",
       "      <td>1</td>\n",
       "    </tr>\n",
       "    <tr>\n",
       "      <th>3</th>\n",
       "      <td>0</td>\n",
       "      <td>0</td>\n",
       "      <td>0</td>\n",
       "      <td>0</td>\n",
       "      <td>0</td>\n",
       "      <td>1</td>\n",
       "      <td>0</td>\n",
       "      <td>0</td>\n",
       "      <td>0</td>\n",
       "      <td>0</td>\n",
       "    </tr>\n",
       "    <tr>\n",
       "      <th>4</th>\n",
       "      <td>0</td>\n",
       "      <td>0</td>\n",
       "      <td>0</td>\n",
       "      <td>0</td>\n",
       "      <td>0</td>\n",
       "      <td>1</td>\n",
       "      <td>0</td>\n",
       "      <td>0</td>\n",
       "      <td>1</td>\n",
       "      <td>1</td>\n",
       "    </tr>\n",
       "    <tr>\n",
       "      <th>...</th>\n",
       "      <td>...</td>\n",
       "      <td>...</td>\n",
       "      <td>...</td>\n",
       "      <td>...</td>\n",
       "      <td>...</td>\n",
       "      <td>...</td>\n",
       "      <td>...</td>\n",
       "      <td>...</td>\n",
       "      <td>...</td>\n",
       "      <td>...</td>\n",
       "    </tr>\n",
       "    <tr>\n",
       "      <th>17995</th>\n",
       "      <td>0</td>\n",
       "      <td>1</td>\n",
       "      <td>0</td>\n",
       "      <td>0</td>\n",
       "      <td>0</td>\n",
       "      <td>0</td>\n",
       "      <td>0</td>\n",
       "      <td>1</td>\n",
       "      <td>0</td>\n",
       "      <td>1</td>\n",
       "    </tr>\n",
       "    <tr>\n",
       "      <th>17996</th>\n",
       "      <td>0</td>\n",
       "      <td>1</td>\n",
       "      <td>0</td>\n",
       "      <td>0</td>\n",
       "      <td>0</td>\n",
       "      <td>0</td>\n",
       "      <td>0</td>\n",
       "      <td>1</td>\n",
       "      <td>0</td>\n",
       "      <td>1</td>\n",
       "    </tr>\n",
       "    <tr>\n",
       "      <th>17997</th>\n",
       "      <td>0</td>\n",
       "      <td>1</td>\n",
       "      <td>0</td>\n",
       "      <td>0</td>\n",
       "      <td>0</td>\n",
       "      <td>0</td>\n",
       "      <td>0</td>\n",
       "      <td>1</td>\n",
       "      <td>0</td>\n",
       "      <td>0</td>\n",
       "    </tr>\n",
       "    <tr>\n",
       "      <th>17998</th>\n",
       "      <td>0</td>\n",
       "      <td>1</td>\n",
       "      <td>0</td>\n",
       "      <td>0</td>\n",
       "      <td>0</td>\n",
       "      <td>1</td>\n",
       "      <td>0</td>\n",
       "      <td>0</td>\n",
       "      <td>1</td>\n",
       "      <td>1</td>\n",
       "    </tr>\n",
       "    <tr>\n",
       "      <th>17999</th>\n",
       "      <td>0</td>\n",
       "      <td>1</td>\n",
       "      <td>0</td>\n",
       "      <td>0</td>\n",
       "      <td>1</td>\n",
       "      <td>0</td>\n",
       "      <td>0</td>\n",
       "      <td>0</td>\n",
       "      <td>1</td>\n",
       "      <td>0</td>\n",
       "    </tr>\n",
       "  </tbody>\n",
       "</table>\n",
       "<p>18000 rows × 10 columns</p>\n",
       "</div>"
      ],
      "text/plain": [
       "       offer_accepted_Yes  reward_Cash Back  reward_Points  \\\n",
       "0                       0                 0              0   \n",
       "1                       0                 0              0   \n",
       "2                       0                 0              0   \n",
       "3                       0                 0              0   \n",
       "4                       0                 0              0   \n",
       "...                   ...               ...            ...   \n",
       "17995                   0                 1              0   \n",
       "17996                   0                 1              0   \n",
       "17997                   0                 1              0   \n",
       "17998                   0                 1              0   \n",
       "17999                   0                 1              0   \n",
       "\n",
       "       mailer_type_Postcard  income_level_Low  income_level_Medium  \\\n",
       "0                         0                 0                    0   \n",
       "1                         0                 0                    1   \n",
       "2                         1                 0                    0   \n",
       "3                         0                 0                    1   \n",
       "4                         0                 0                    1   \n",
       "...                     ...               ...                  ...   \n",
       "17995                     0                 0                    0   \n",
       "17996                     0                 0                    0   \n",
       "17997                     0                 0                    0   \n",
       "17998                     0                 0                    1   \n",
       "17999                     0                 1                    0   \n",
       "\n",
       "       overdraft_protection_Yes  credit_rating_Low  credit_rating_Medium  \\\n",
       "0                             0                  0                     0   \n",
       "1                             0                  0                     1   \n",
       "2                             0                  0                     1   \n",
       "3                             0                  0                     0   \n",
       "4                             0                  0                     1   \n",
       "...                         ...                ...                   ...   \n",
       "17995                         0                  1                     0   \n",
       "17996                         0                  1                     0   \n",
       "17997                         0                  1                     0   \n",
       "17998                         0                  0                     1   \n",
       "17999                         0                  0                     1   \n",
       "\n",
       "       own_your_home_Yes  \n",
       "0                      0  \n",
       "1                      1  \n",
       "2                      1  \n",
       "3                      0  \n",
       "4                      1  \n",
       "...                  ...  \n",
       "17995                  1  \n",
       "17996                  1  \n",
       "17997                  0  \n",
       "17998                  1  \n",
       "17999                  0  \n",
       "\n",
       "[18000 rows x 10 columns]"
      ]
     },
     "execution_count": 31,
     "metadata": {},
     "output_type": "execute_result"
    }
   ],
   "source": [
    "categorical"
   ]
  },
  {
   "cell_type": "markdown",
   "id": "friendly-sterling",
   "metadata": {},
   "source": [
    "- Standardize the numerical variables"
   ]
  },
  {
   "cell_type": "code",
   "execution_count": 32,
   "id": "three-dover",
   "metadata": {},
   "outputs": [
    {
     "name": "stdout",
     "output_type": "stream",
     "text": [
      "(18000, 5)\n"
     ]
    }
   ],
   "source": [
    "transformer = MinMaxScaler().fit(df_num)\n",
    "x_mmscaled = transformer.transform(df_num)\n",
    "print(x_mmscaled.shape)"
   ]
  },
  {
   "cell_type": "code",
   "execution_count": 33,
   "id": "knowing-healing",
   "metadata": {},
   "outputs": [
    {
     "data": {
      "text/html": [
       "<div>\n",
       "<style scoped>\n",
       "    .dataframe tbody tr th:only-of-type {\n",
       "        vertical-align: middle;\n",
       "    }\n",
       "\n",
       "    .dataframe tbody tr th {\n",
       "        vertical-align: top;\n",
       "    }\n",
       "\n",
       "    .dataframe thead th {\n",
       "        text-align: right;\n",
       "    }\n",
       "</style>\n",
       "<table border=\"1\" class=\"dataframe\">\n",
       "  <thead>\n",
       "    <tr style=\"text-align: right;\">\n",
       "      <th></th>\n",
       "      <th>bank_accounts_open</th>\n",
       "      <th>credit_cards_held</th>\n",
       "      <th>homes_owned</th>\n",
       "      <th>household_size</th>\n",
       "      <th>average_balance</th>\n",
       "    </tr>\n",
       "  </thead>\n",
       "  <tbody>\n",
       "    <tr>\n",
       "      <th>0</th>\n",
       "      <td>0.0</td>\n",
       "      <td>0.333333</td>\n",
       "      <td>0.0</td>\n",
       "      <td>0.375</td>\n",
       "      <td>0.335292</td>\n",
       "    </tr>\n",
       "    <tr>\n",
       "      <th>1</th>\n",
       "      <td>0.0</td>\n",
       "      <td>0.333333</td>\n",
       "      <td>0.5</td>\n",
       "      <td>0.500</td>\n",
       "      <td>0.029837</td>\n",
       "    </tr>\n",
       "    <tr>\n",
       "      <th>2</th>\n",
       "      <td>0.5</td>\n",
       "      <td>0.333333</td>\n",
       "      <td>0.0</td>\n",
       "      <td>0.125</td>\n",
       "      <td>0.068791</td>\n",
       "    </tr>\n",
       "    <tr>\n",
       "      <th>3</th>\n",
       "      <td>0.5</td>\n",
       "      <td>0.000000</td>\n",
       "      <td>0.0</td>\n",
       "      <td>0.375</td>\n",
       "      <td>0.352848</td>\n",
       "    </tr>\n",
       "    <tr>\n",
       "      <th>4</th>\n",
       "      <td>0.0</td>\n",
       "      <td>0.333333</td>\n",
       "      <td>0.0</td>\n",
       "      <td>0.625</td>\n",
       "      <td>0.350437</td>\n",
       "    </tr>\n",
       "    <tr>\n",
       "      <th>...</th>\n",
       "      <td>...</td>\n",
       "      <td>...</td>\n",
       "      <td>...</td>\n",
       "      <td>...</td>\n",
       "      <td>...</td>\n",
       "    </tr>\n",
       "    <tr>\n",
       "      <th>17995</th>\n",
       "      <td>0.0</td>\n",
       "      <td>0.000000</td>\n",
       "      <td>0.0</td>\n",
       "      <td>0.500</td>\n",
       "      <td>0.035940</td>\n",
       "    </tr>\n",
       "    <tr>\n",
       "      <th>17996</th>\n",
       "      <td>0.0</td>\n",
       "      <td>0.666667</td>\n",
       "      <td>0.0</td>\n",
       "      <td>0.250</td>\n",
       "      <td>0.241787</td>\n",
       "    </tr>\n",
       "    <tr>\n",
       "      <th>17997</th>\n",
       "      <td>0.0</td>\n",
       "      <td>0.333333</td>\n",
       "      <td>0.0</td>\n",
       "      <td>0.375</td>\n",
       "      <td>0.313140</td>\n",
       "    </tr>\n",
       "    <tr>\n",
       "      <th>17998</th>\n",
       "      <td>0.0</td>\n",
       "      <td>1.000000</td>\n",
       "      <td>0.5</td>\n",
       "      <td>0.125</td>\n",
       "      <td>0.293550</td>\n",
       "    </tr>\n",
       "    <tr>\n",
       "      <th>17999</th>\n",
       "      <td>0.5</td>\n",
       "      <td>0.333333</td>\n",
       "      <td>0.0</td>\n",
       "      <td>0.250</td>\n",
       "      <td>0.303722</td>\n",
       "    </tr>\n",
       "  </tbody>\n",
       "</table>\n",
       "<p>18000 rows × 5 columns</p>\n",
       "</div>"
      ],
      "text/plain": [
       "       bank_accounts_open  credit_cards_held  homes_owned  household_size  \\\n",
       "0                     0.0           0.333333          0.0           0.375   \n",
       "1                     0.0           0.333333          0.5           0.500   \n",
       "2                     0.5           0.333333          0.0           0.125   \n",
       "3                     0.5           0.000000          0.0           0.375   \n",
       "4                     0.0           0.333333          0.0           0.625   \n",
       "...                   ...                ...          ...             ...   \n",
       "17995                 0.0           0.000000          0.0           0.500   \n",
       "17996                 0.0           0.666667          0.0           0.250   \n",
       "17997                 0.0           0.333333          0.0           0.375   \n",
       "17998                 0.0           1.000000          0.5           0.125   \n",
       "17999                 0.5           0.333333          0.0           0.250   \n",
       "\n",
       "       average_balance  \n",
       "0             0.335292  \n",
       "1             0.029837  \n",
       "2             0.068791  \n",
       "3             0.352848  \n",
       "4             0.350437  \n",
       "...                ...  \n",
       "17995         0.035940  \n",
       "17996         0.241787  \n",
       "17997         0.313140  \n",
       "17998         0.293550  \n",
       "17999         0.303722  \n",
       "\n",
       "[18000 rows x 5 columns]"
      ]
     },
     "execution_count": 33,
     "metadata": {},
     "output_type": "execute_result"
    }
   ],
   "source": [
    "x_num = pd.DataFrame(x_mmscaled, columns=df_num.columns)\n",
    "x_num"
   ]
  },
  {
   "cell_type": "markdown",
   "id": "racial-elements",
   "metadata": {},
   "source": [
    "- Drop the target variable y from df_cat"
   ]
  },
  {
   "cell_type": "code",
   "execution_count": 34,
   "id": "accredited-bankruptcy",
   "metadata": {},
   "outputs": [
    {
     "data": {
      "text/plain": [
       "0    0\n",
       "1    0\n",
       "2    0\n",
       "3    0\n",
       "4    0\n",
       "Name: offer_accepted_Yes, dtype: uint8"
      ]
     },
     "execution_count": 34,
     "metadata": {},
     "output_type": "execute_result"
    }
   ],
   "source": [
    "y = categorical['offer_accepted_Yes']\n",
    "y.head()"
   ]
  },
  {
   "cell_type": "code",
   "execution_count": 35,
   "id": "olive-legislature",
   "metadata": {},
   "outputs": [
    {
     "data": {
      "text/html": [
       "<div>\n",
       "<style scoped>\n",
       "    .dataframe tbody tr th:only-of-type {\n",
       "        vertical-align: middle;\n",
       "    }\n",
       "\n",
       "    .dataframe tbody tr th {\n",
       "        vertical-align: top;\n",
       "    }\n",
       "\n",
       "    .dataframe thead th {\n",
       "        text-align: right;\n",
       "    }\n",
       "</style>\n",
       "<table border=\"1\" class=\"dataframe\">\n",
       "  <thead>\n",
       "    <tr style=\"text-align: right;\">\n",
       "      <th></th>\n",
       "      <th>reward_Cash Back</th>\n",
       "      <th>reward_Points</th>\n",
       "      <th>mailer_type_Postcard</th>\n",
       "      <th>income_level_Low</th>\n",
       "      <th>income_level_Medium</th>\n",
       "      <th>overdraft_protection_Yes</th>\n",
       "      <th>credit_rating_Low</th>\n",
       "      <th>credit_rating_Medium</th>\n",
       "      <th>own_your_home_Yes</th>\n",
       "    </tr>\n",
       "  </thead>\n",
       "  <tbody>\n",
       "    <tr>\n",
       "      <th>0</th>\n",
       "      <td>0</td>\n",
       "      <td>0</td>\n",
       "      <td>0</td>\n",
       "      <td>0</td>\n",
       "      <td>0</td>\n",
       "      <td>0</td>\n",
       "      <td>0</td>\n",
       "      <td>0</td>\n",
       "      <td>0</td>\n",
       "    </tr>\n",
       "    <tr>\n",
       "      <th>1</th>\n",
       "      <td>0</td>\n",
       "      <td>0</td>\n",
       "      <td>0</td>\n",
       "      <td>0</td>\n",
       "      <td>1</td>\n",
       "      <td>0</td>\n",
       "      <td>0</td>\n",
       "      <td>1</td>\n",
       "      <td>1</td>\n",
       "    </tr>\n",
       "    <tr>\n",
       "      <th>2</th>\n",
       "      <td>0</td>\n",
       "      <td>0</td>\n",
       "      <td>1</td>\n",
       "      <td>0</td>\n",
       "      <td>0</td>\n",
       "      <td>0</td>\n",
       "      <td>0</td>\n",
       "      <td>1</td>\n",
       "      <td>1</td>\n",
       "    </tr>\n",
       "    <tr>\n",
       "      <th>3</th>\n",
       "      <td>0</td>\n",
       "      <td>0</td>\n",
       "      <td>0</td>\n",
       "      <td>0</td>\n",
       "      <td>1</td>\n",
       "      <td>0</td>\n",
       "      <td>0</td>\n",
       "      <td>0</td>\n",
       "      <td>0</td>\n",
       "    </tr>\n",
       "    <tr>\n",
       "      <th>4</th>\n",
       "      <td>0</td>\n",
       "      <td>0</td>\n",
       "      <td>0</td>\n",
       "      <td>0</td>\n",
       "      <td>1</td>\n",
       "      <td>0</td>\n",
       "      <td>0</td>\n",
       "      <td>1</td>\n",
       "      <td>1</td>\n",
       "    </tr>\n",
       "    <tr>\n",
       "      <th>...</th>\n",
       "      <td>...</td>\n",
       "      <td>...</td>\n",
       "      <td>...</td>\n",
       "      <td>...</td>\n",
       "      <td>...</td>\n",
       "      <td>...</td>\n",
       "      <td>...</td>\n",
       "      <td>...</td>\n",
       "      <td>...</td>\n",
       "    </tr>\n",
       "    <tr>\n",
       "      <th>17995</th>\n",
       "      <td>1</td>\n",
       "      <td>0</td>\n",
       "      <td>0</td>\n",
       "      <td>0</td>\n",
       "      <td>0</td>\n",
       "      <td>0</td>\n",
       "      <td>1</td>\n",
       "      <td>0</td>\n",
       "      <td>1</td>\n",
       "    </tr>\n",
       "    <tr>\n",
       "      <th>17996</th>\n",
       "      <td>1</td>\n",
       "      <td>0</td>\n",
       "      <td>0</td>\n",
       "      <td>0</td>\n",
       "      <td>0</td>\n",
       "      <td>0</td>\n",
       "      <td>1</td>\n",
       "      <td>0</td>\n",
       "      <td>1</td>\n",
       "    </tr>\n",
       "    <tr>\n",
       "      <th>17997</th>\n",
       "      <td>1</td>\n",
       "      <td>0</td>\n",
       "      <td>0</td>\n",
       "      <td>0</td>\n",
       "      <td>0</td>\n",
       "      <td>0</td>\n",
       "      <td>1</td>\n",
       "      <td>0</td>\n",
       "      <td>0</td>\n",
       "    </tr>\n",
       "    <tr>\n",
       "      <th>17998</th>\n",
       "      <td>1</td>\n",
       "      <td>0</td>\n",
       "      <td>0</td>\n",
       "      <td>0</td>\n",
       "      <td>1</td>\n",
       "      <td>0</td>\n",
       "      <td>0</td>\n",
       "      <td>1</td>\n",
       "      <td>1</td>\n",
       "    </tr>\n",
       "    <tr>\n",
       "      <th>17999</th>\n",
       "      <td>1</td>\n",
       "      <td>0</td>\n",
       "      <td>0</td>\n",
       "      <td>1</td>\n",
       "      <td>0</td>\n",
       "      <td>0</td>\n",
       "      <td>0</td>\n",
       "      <td>1</td>\n",
       "      <td>0</td>\n",
       "    </tr>\n",
       "  </tbody>\n",
       "</table>\n",
       "<p>18000 rows × 9 columns</p>\n",
       "</div>"
      ],
      "text/plain": [
       "       reward_Cash Back  reward_Points  mailer_type_Postcard  \\\n",
       "0                     0              0                     0   \n",
       "1                     0              0                     0   \n",
       "2                     0              0                     1   \n",
       "3                     0              0                     0   \n",
       "4                     0              0                     0   \n",
       "...                 ...            ...                   ...   \n",
       "17995                 1              0                     0   \n",
       "17996                 1              0                     0   \n",
       "17997                 1              0                     0   \n",
       "17998                 1              0                     0   \n",
       "17999                 1              0                     0   \n",
       "\n",
       "       income_level_Low  income_level_Medium  overdraft_protection_Yes  \\\n",
       "0                     0                    0                         0   \n",
       "1                     0                    1                         0   \n",
       "2                     0                    0                         0   \n",
       "3                     0                    1                         0   \n",
       "4                     0                    1                         0   \n",
       "...                 ...                  ...                       ...   \n",
       "17995                 0                    0                         0   \n",
       "17996                 0                    0                         0   \n",
       "17997                 0                    0                         0   \n",
       "17998                 0                    1                         0   \n",
       "17999                 1                    0                         0   \n",
       "\n",
       "       credit_rating_Low  credit_rating_Medium  own_your_home_Yes  \n",
       "0                      0                     0                  0  \n",
       "1                      0                     1                  1  \n",
       "2                      0                     1                  1  \n",
       "3                      0                     0                  0  \n",
       "4                      0                     1                  1  \n",
       "...                  ...                   ...                ...  \n",
       "17995                  1                     0                  1  \n",
       "17996                  1                     0                  1  \n",
       "17997                  1                     0                  0  \n",
       "17998                  0                     1                  1  \n",
       "17999                  0                     1                  0  \n",
       "\n",
       "[18000 rows x 9 columns]"
      ]
     },
     "execution_count": 35,
     "metadata": {},
     "output_type": "execute_result"
    }
   ],
   "source": [
    "categorical = categorical.drop(['offer_accepted_Yes'], axis=1)\n",
    "categorical"
   ]
  },
  {
   "cell_type": "code",
   "execution_count": 36,
   "id": "recreational-lying",
   "metadata": {},
   "outputs": [
    {
     "data": {
      "text/plain": [
       "((18000, 5), (18000,), (18000, 9))"
      ]
     },
     "execution_count": 36,
     "metadata": {},
     "output_type": "execute_result"
    }
   ],
   "source": [
    "x_num.shape, y.shape, categorical.shape"
   ]
  },
  {
   "cell_type": "code",
   "execution_count": 37,
   "id": "logical-wayne",
   "metadata": {},
   "outputs": [
    {
     "data": {
      "text/plain": [
       "array([[0.        , 0.33333333, 0.        , ..., 0.        , 0.        ,\n",
       "        0.        ],\n",
       "       [0.        , 0.33333333, 0.5       , ..., 0.        , 1.        ,\n",
       "        1.        ],\n",
       "       [0.5       , 0.33333333, 0.        , ..., 0.        , 1.        ,\n",
       "        1.        ],\n",
       "       ...,\n",
       "       [0.        , 0.33333333, 0.        , ..., 1.        , 0.        ,\n",
       "        0.        ],\n",
       "       [0.        , 1.        , 0.5       , ..., 0.        , 1.        ,\n",
       "        1.        ],\n",
       "       [0.5       , 0.33333333, 0.        , ..., 0.        , 1.        ,\n",
       "        0.        ]])"
      ]
     },
     "execution_count": 37,
     "metadata": {},
     "output_type": "execute_result"
    }
   ],
   "source": [
    "X = np.concatenate((x_num, categorical), axis=1)\n",
    "X"
   ]
  },
  {
   "cell_type": "markdown",
   "id": "understood-tissue",
   "metadata": {},
   "source": [
    "Plot the groups of yes and no"
   ]
  },
  {
   "cell_type": "code",
   "execution_count": 38,
   "id": "ecological-serve",
   "metadata": {},
   "outputs": [
    {
     "name": "stdout",
     "output_type": "stream",
     "text": [
      "Counter({0: 9900, 1: 100})\n"
     ]
    },
    {
     "data": {
      "image/png": "[encoded data removed]",
      "text/plain": [
       "<Figure size 432x288 with 1 Axes>"
      ]
     },
     "metadata": {
      "needs_background": "light"
     },
     "output_type": "display_data"
    }
   ],
   "source": [
    "# define dataset\n",
    "X, y = make_classification(n_samples=10000, n_features=2, n_redundant=0,\n",
    "\tn_clusters_per_class=1, weights=[0.99], flip_y=0, random_state=1)\n",
    "# summarize class distribution\n",
    "counter = Counter(y)\n",
    "print(counter)\n",
    "# scatter plot of examples by class label\n",
    "for label, _ in counter.items():\n",
    "\trow_ix = where(y == label)[0]\n",
    "\tpyplot.scatter(X[row_ix, 0], X[row_ix, 1], label=str(label))\n",
    "pyplot.legend()\n",
    "pyplot.show()"
   ]
  },
  {
   "cell_type": "markdown",
   "id": "local-construction",
   "metadata": {},
   "source": [
    "### Apply the model"
   ]
  },
  {
   "cell_type": "markdown",
   "id": "southeast-mills",
   "metadata": {},
   "source": [
    "- log. Regression"
   ]
  },
  {
   "cell_type": "code",
   "execution_count": 39,
   "id": "historical-mystery",
   "metadata": {},
   "outputs": [],
   "source": [
    "X_train, X_test, y_train, y_test =train_test_split(X, y, test_size= 0.4, random_state=40)"
   ]
  },
  {
   "cell_type": "code",
   "execution_count": 40,
   "id": "metallic-times",
   "metadata": {},
   "outputs": [],
   "source": [
    "classification = LogisticRegression(random_state=0, solver='lbfgs',max_iter=400,\n",
    "                  multi_class='ovr').fit(X_train, y_train)"
   ]
  },
  {
   "cell_type": "code",
   "execution_count": 41,
   "id": "attractive-notice",
   "metadata": {},
   "outputs": [],
   "source": [
    "predictions = classification.predict(X_test)"
   ]
  },
  {
   "cell_type": "code",
   "execution_count": 42,
   "id": "sensitive-tutorial",
   "metadata": {},
   "outputs": [
    {
     "data": {
      "text/plain": [
       "array([0, 0, 0, ..., 0, 0, 0])"
      ]
     },
     "execution_count": 42,
     "metadata": {},
     "output_type": "execute_result"
    }
   ],
   "source": [
    "predictions"
   ]
  },
  {
   "cell_type": "code",
   "execution_count": 43,
   "id": "historic-merchandise",
   "metadata": {},
   "outputs": [
    {
     "data": {
      "text/plain": [
       "0.99425"
      ]
     },
     "execution_count": 43,
     "metadata": {},
     "output_type": "execute_result"
    }
   ],
   "source": [
    "accuracy_score(y_test, predictions)"
   ]
  },
  {
   "cell_type": "code",
   "execution_count": 44,
   "id": "tender-director",
   "metadata": {},
   "outputs": [
    {
     "name": "stdout",
     "output_type": "stream",
     "text": [
      "0.7440596881593408\n"
     ]
    }
   ],
   "source": [
    "probs = classification.predict_proba(X_test)\n",
    "preds =probs[:,1]\n",
    "fpr, tpr, threshold = metrics.roc_curve(y_test, predictions)\n",
    "roc_auc = metrics.auc(fpr, tpr)\n",
    "print(roc_auc)"
   ]
  },
  {
   "cell_type": "markdown",
   "id": "dietary-easter",
   "metadata": {},
   "source": [
    "-> AUC-ROC - Graph"
   ]
  },
  {
   "cell_type": "code",
   "execution_count": 45,
   "id": "excessive-wrist",
   "metadata": {},
   "outputs": [
    {
     "data": {
      "image/png": "[encoded data removed]",
      "text/plain": [
       "<Figure size 432x288 with 1 Axes>"
      ]
     },
     "metadata": {
      "needs_background": "light"
     },
     "output_type": "display_data"
    }
   ],
   "source": [
    "plt.title('Receiver Operating Characteristic')\n",
    "plt.plot(fpr, tpr, 'b', label = 'AUC = %0.2f' % roc_auc)\n",
    "plt.legend(loc = 'lower right')\n",
    "plt.plot([0, 1], [0, 1],'r--')\n",
    "plt.xlim([0, 1])\n",
    "plt.ylim([0, 1])\n",
    "plt.ylabel('True Positive Rate')\n",
    "plt.xlabel('False Positive Rate')\n",
    "plt.show()"
   ]
  },
  {
   "cell_type": "markdown",
   "id": "accessible-logan",
   "metadata": {},
   "source": [
    "- confusion matrix"
   ]
  },
  {
   "cell_type": "code",
   "execution_count": 46,
   "id": "dirty-messenger",
   "metadata": {},
   "outputs": [
    {
     "data": {
      "image/png": "[encoded data removed]",
      "text/plain": [
       "<Figure size 432x288 with 2 Axes>"
      ]
     },
     "metadata": {
      "needs_background": "light"
     },
     "output_type": "display_data"
    }
   ],
   "source": [
    "accuracy_score(y_test,predictions)\n",
    "confusion_matrix(y_test,predictions)\n",
    "plot_confusion_matrix(classification, X_test, y_test)\n",
    "plt.show()"
   ]
  },
  {
   "cell_type": "markdown",
   "id": "peripheral-split",
   "metadata": {},
   "source": [
    "- Accuracy measures"
   ]
  },
  {
   "cell_type": "code",
   "execution_count": 47,
   "id": "square-quarterly",
   "metadata": {},
   "outputs": [
    {
     "name": "stdout",
     "output_type": "stream",
     "text": [
      "The mean absolute error of the model in the test set is:   0.01\n",
      "The mean squared error of the model in the test set is:   0.01\n",
      "The root mean squared error of the model in the test set is:   0.08\n",
      "The R2 of the model in the test set is: 0.46\n"
     ]
    }
   ],
   "source": [
    "MAE = mean_absolute_error(y_test,predictions)\n",
    "MSE = mean_squared_error(y_test,predictions)\n",
    "RMSE = np.sqrt(MSE)\n",
    "R2 = r2_score(y_test,predictions)\n",
    "\n",
    "print(\"The mean absolute error of the model in the test set is: %6.2f\" % (MAE))\n",
    "print(\"The mean squared error of the model in the test set is: %6.2f\" % (MSE))\n",
    "print(\"The root mean squared error of the model in the test set is: %6.2f\" % (RMSE))\n",
    "print(\"The R2 of the model in the test set is: %4.2f\" % (R2))"
   ]
  },
  {
   "cell_type": "markdown",
   "id": "varied-reducing",
   "metadata": {},
   "source": [
    "- KNN-Model"
   ]
  },
  {
   "cell_type": "code",
   "execution_count": 48,
   "id": "connected-sleeping",
   "metadata": {},
   "outputs": [
    {
     "data": {
      "text/plain": [
       "KNeighborsRegressor(n_neighbors=4)"
      ]
     },
     "execution_count": 48,
     "metadata": {},
     "output_type": "execute_result"
    }
   ],
   "source": [
    "knn_model = KNeighborsRegressor(n_neighbors=4)\n",
    "knn_model.fit(X_train, y_train)"
   ]
  },
  {
   "cell_type": "code",
   "execution_count": 49,
   "id": "premium-migration",
   "metadata": {},
   "outputs": [],
   "source": [
    "knn_predictions = knn_model.predict(X_test)"
   ]
  },
  {
   "cell_type": "code",
   "execution_count": 50,
   "id": "chronic-activation",
   "metadata": {},
   "outputs": [
    {
     "name": "stdout",
     "output_type": "stream",
     "text": [
      "The mean absolute error of the model in the test set is:   0.01\n",
      "The mean squared error of the model in the test set is:   0.01\n",
      "The root mean squared error of the model in the test set is:   0.08\n",
      "The R2 of the model in the test set is: 0.45\n"
     ]
    }
   ],
   "source": [
    "MAE = mean_absolute_error(y_test,knn_predictions)\n",
    "MSE = mean_squared_error(y_test,knn_predictions)\n",
    "RMSE = np.sqrt(MSE)\n",
    "R2 = r2_score(y_test,knn_predictions)\n",
    "\n",
    "print(\"The mean absolute error of the model in the test set is: %6.2f\" % (MAE))\n",
    "print(\"The mean squared error of the model in the test set is: %6.2f\" % (MSE))\n",
    "print(\"The root mean squared error of the model in the test set is: %6.2f\" % (RMSE))\n",
    "print(\"The R2 of the model in the test set is: %4.2f\" % (R2))"
   ]
  },
  {
   "cell_type": "code",
   "execution_count": 51,
   "id": "superior-function",
   "metadata": {},
   "outputs": [],
   "source": [
    "def knn_comparison(data, k):\n",
    "    x = df.iloc[:, 0:2].values\n",
    "    y = df.iloc[:, -1].astype(int).values\n",
    "    knn = KNeighborsRegressor(n_neighbors=k)\n",
    "    knn.fit(X, y)\n",
    "\n",
    "    plt.figure(figsize=(16,12))\n",
    "    plot_decision_regions(X, y, clf=knn)\n",
    "    plt.title(\"Knn with K=\"+ str(k), fontsize = 18)\n",
    "    plt.show()"
   ]
  },
  {
   "cell_type": "code",
   "execution_count": 52,
   "id": "instrumental-earthquake",
   "metadata": {},
   "outputs": [
    {
     "data": {
      "text/plain": [
       "0.44608024636940125"
      ]
     },
     "execution_count": 52,
     "metadata": {},
     "output_type": "execute_result"
    }
   ],
   "source": [
    "uniform_model = KNeighborsRegressor(n_neighbors=4)\n",
    "uniform_model.fit(X_train, y_train)\n",
    "uniform_model.score(X_test, y_test)"
   ]
  },
  {
   "cell_type": "code",
   "execution_count": 53,
   "id": "photographic-sudan",
   "metadata": {},
   "outputs": [
    {
     "data": {
      "text/plain": [
       "0.4671673498803939"
      ]
     },
     "execution_count": 53,
     "metadata": {},
     "output_type": "execute_result"
    }
   ],
   "source": [
    "distance_model = KNeighborsRegressor(n_neighbors=4, weights = \"distance\")\n",
    "distance_model.fit(X_train, y_train)\n",
    "distance_model.score(X_test, y_test)"
   ]
  },
  {
   "cell_type": "markdown",
   "id": "motivated-array",
   "metadata": {},
   "source": [
    "# applying SMOTE"
   ]
  },
  {
   "cell_type": "code",
   "execution_count": 54,
   "id": "wrapped-fusion",
   "metadata": {},
   "outputs": [],
   "source": [
    "smote = SMOTE()"
   ]
  },
  {
   "cell_type": "code",
   "execution_count": 55,
   "id": "velvet-springer",
   "metadata": {},
   "outputs": [],
   "source": [
    "X_sm, y_sm = smote.fit_resample(X, y)"
   ]
  },
  {
   "cell_type": "markdown",
   "id": "catholic-palace",
   "metadata": {},
   "source": [
    "- rund the log.Regression again"
   ]
  },
  {
   "cell_type": "code",
   "execution_count": 56,
   "id": "russian-local",
   "metadata": {},
   "outputs": [],
   "source": [
    "X_train, X_test, y_train, y_test =train_test_split(X_sm, y_sm, test_size= 0.3, random_state=40)"
   ]
  },
  {
   "cell_type": "code",
   "execution_count": 57,
   "id": "compliant-knock",
   "metadata": {},
   "outputs": [],
   "source": [
    "classification = LogisticRegression(random_state=0, solver='lbfgs',max_iter=400,\n",
    "                  multi_class='ovr').fit(X_train, y_train)"
   ]
  },
  {
   "cell_type": "code",
   "execution_count": 58,
   "id": "miniature-certificate",
   "metadata": {},
   "outputs": [],
   "source": [
    "predictions = classification.predict(X_test)"
   ]
  },
  {
   "cell_type": "code",
   "execution_count": 59,
   "id": "legitimate-dining",
   "metadata": {},
   "outputs": [
    {
     "data": {
      "text/plain": [
       "0.912962962962963"
      ]
     },
     "execution_count": 59,
     "metadata": {},
     "output_type": "execute_result"
    }
   ],
   "source": [
    "accuracy_score(y_test, predictions)"
   ]
  },
  {
   "cell_type": "code",
   "execution_count": 60,
   "id": "loving-candle",
   "metadata": {},
   "outputs": [
    {
     "name": "stdout",
     "output_type": "stream",
     "text": [
      "0.9130323851715034\n"
     ]
    }
   ],
   "source": [
    "probs = classification.predict_proba(X_test)\n",
    "preds =probs[:,1]\n",
    "fpr, tpr, threshold = metrics.roc_curve(y_test, predictions)\n",
    "roc_auc = metrics.auc(fpr, tpr)\n",
    "print(roc_auc)"
   ]
  },
  {
   "cell_type": "code",
   "execution_count": 61,
   "id": "moving-confidence",
   "metadata": {},
   "outputs": [
    {
     "data": {
      "image/png": "[encoded data removed]",
      "text/plain": [
       "<Figure size 432x288 with 1 Axes>"
      ]
     },
     "metadata": {
      "needs_background": "light"
     },
     "output_type": "display_data"
    }
   ],
   "source": [
    "plt.title('Receiver Operating Characteristic')\n",
    "plt.plot(fpr, tpr, 'b', label = 'AUC = %0.2f' % roc_auc)\n",
    "plt.legend(loc = 'lower right')\n",
    "plt.plot([0, 1], [0, 1],'r--')\n",
    "plt.xlim([0, 1])\n",
    "plt.ylim([0, 1])\n",
    "plt.ylabel('True Positive Rate')\n",
    "plt.xlabel('False Positive Rate')\n",
    "plt.show()"
   ]
  },
  {
   "cell_type": "code",
   "execution_count": 62,
   "id": "distinct-pepper",
   "metadata": {},
   "outputs": [
    {
     "data": {
      "image/png": "[encoded data removed]",
      "text/plain": [
       "<Figure size 432x288 with 2 Axes>"
      ]
     },
     "metadata": {
      "needs_background": "light"
     },
     "output_type": "display_data"
    }
   ],
   "source": [
    "accuracy_score(y_test,predictions)\n",
    "confusion_matrix(y_test,predictions)\n",
    "plot_confusion_matrix(classification, X_test, y_test)\n",
    "plt.show()"
   ]
  },
  {
   "cell_type": "markdown",
   "id": "equipped-determination",
   "metadata": {},
   "source": [
    "- Accuracy Measure for log. regression"
   ]
  },
  {
   "cell_type": "code",
   "execution_count": 63,
   "id": "processed-longer",
   "metadata": {},
   "outputs": [
    {
     "name": "stdout",
     "output_type": "stream",
     "text": [
      "The mean absolute error of the model in the test set is:   0.09\n",
      "The mean squared error of the model in the test set is:   0.09\n",
      "The root mean squared error of the model in the test set is:   0.30\n",
      "The R2 of the model in the test set is: 0.65\n"
     ]
    }
   ],
   "source": [
    "MAE = mean_absolute_error(y_test,predictions)\n",
    "MSE = mean_squared_error(y_test,predictions)\n",
    "RMSE = np.sqrt(MSE)\n",
    "R2 = r2_score(y_test,predictions)\n",
    "\n",
    "print(\"The mean absolute error of the model in the test set is: %6.2f\" % (MAE))\n",
    "print(\"The mean squared error of the model in the test set is: %6.2f\" % (MSE))\n",
    "print(\"The root mean squared error of the model in the test set is: %6.2f\" % (RMSE))\n",
    "print(\"The R2 of the model in the test set is: %4.2f\" % (R2))"
   ]
  },
  {
   "cell_type": "markdown",
   "id": "bridal-corruption",
   "metadata": {},
   "source": [
    "- KNN Model"
   ]
  },
  {
   "cell_type": "code",
   "execution_count": 64,
   "id": "spiritual-virgin",
   "metadata": {},
   "outputs": [
    {
     "data": {
      "text/plain": [
       "KNeighborsRegressor(n_neighbors=4)"
      ]
     },
     "execution_count": 64,
     "metadata": {},
     "output_type": "execute_result"
    }
   ],
   "source": [
    "knn_model = KNeighborsRegressor(n_neighbors=4)\n",
    "knn_model.fit(X_train, y_train)"
   ]
  },
  {
   "cell_type": "code",
   "execution_count": 65,
   "id": "incoming-three",
   "metadata": {},
   "outputs": [],
   "source": [
    "knn_predictions = knn_model.predict(X_test)"
   ]
  },
  {
   "cell_type": "code",
   "execution_count": 66,
   "id": "fossil-foster",
   "metadata": {},
   "outputs": [
    {
     "name": "stdout",
     "output_type": "stream",
     "text": [
      "The mean absolute error of the model in the test set is:   0.07\n",
      "The mean squared error of the model in the test set is:   0.04\n",
      "The root mean squared error of the model in the test set is:   0.20\n",
      "The R2 of the model in the test set is: 0.84\n"
     ]
    }
   ],
   "source": [
    "MAE = mean_absolute_error(y_test,knn_predictions)\n",
    "MSE = mean_squared_error(y_test,knn_predictions)\n",
    "RMSE = np.sqrt(MSE)\n",
    "R2 = r2_score(y_test,knn_predictions)\n",
    "\n",
    "print(\"The mean absolute error of the model in the test set is: %6.2f\" % (MAE))\n",
    "print(\"The mean squared error of the model in the test set is: %6.2f\" % (MSE))\n",
    "print(\"The root mean squared error of the model in the test set is: %6.2f\" % (RMSE))\n",
    "print(\"The R2 of the model in the test set is: %4.2f\" % (R2))"
   ]
  },
  {
   "cell_type": "markdown",
   "id": "asian-advantage",
   "metadata": {},
   "source": [
    "# Applying TomekLinks"
   ]
  },
  {
   "cell_type": "code",
   "execution_count": 67,
   "id": "proprietary-cleveland",
   "metadata": {},
   "outputs": [],
   "source": [
    "tl = TomekLinks('majority')\n",
    "X_tl, y_tl = tl.fit_resample(X, y)"
   ]
  },
  {
   "cell_type": "markdown",
   "id": "answering-progressive",
   "metadata": {},
   "source": [
    "- run the log. regression"
   ]
  },
  {
   "cell_type": "code",
   "execution_count": 68,
   "id": "floppy-muscle",
   "metadata": {},
   "outputs": [
    {
     "data": {
      "text/plain": [
       "0.9943200801871033"
      ]
     },
     "execution_count": 68,
     "metadata": {},
     "output_type": "execute_result"
    }
   ],
   "source": [
    "X_train, X_test, y_train, y_test =train_test_split(X_tl, y_tl, test_size= 0.3, random_state=40)\n",
    "classification = LogisticRegression(random_state=0, solver='lbfgs',max_iter=400,\n",
    "                  multi_class='ovr').fit(X_train, y_train)\n",
    "predictions = classification.predict(X_test)\n",
    "accuracy_score(y_test, predictions)"
   ]
  },
  {
   "cell_type": "code",
   "execution_count": 69,
   "id": "confident-percentage",
   "metadata": {},
   "outputs": [
    {
     "name": "stdout",
     "output_type": "stream",
     "text": [
      "0.7258064516129032\n"
     ]
    }
   ],
   "source": [
    "probs = classification.predict_proba(X_test)\n",
    "preds =probs[:,1]\n",
    "fpr, tpr, threshold = metrics.roc_curve(y_test, predictions)\n",
    "roc_auc = metrics.auc(fpr, tpr)\n",
    "print(roc_auc)"
   ]
  },
  {
   "cell_type": "code",
   "execution_count": 70,
   "id": "prime-longitude",
   "metadata": {},
   "outputs": [
    {
     "data": {
      "image/png": "[encoded data removed]",
      "text/plain": [
       "<Figure size 432x288 with 1 Axes>"
      ]
     },
     "metadata": {
      "needs_background": "light"
     },
     "output_type": "display_data"
    }
   ],
   "source": [
    "plt.title('Receiver Operating Characteristic')\n",
    "plt.plot(fpr, tpr, 'b', label = 'AUC = %0.2f' % roc_auc)\n",
    "plt.legend(loc = 'lower right')\n",
    "plt.plot([0, 1], [0, 1],'r--')\n",
    "plt.xlim([0, 1])\n",
    "plt.ylim([0, 1])\n",
    "plt.ylabel('True Positive Rate')\n",
    "plt.xlabel('False Positive Rate')\n",
    "plt.show()"
   ]
  },
  {
   "cell_type": "code",
   "execution_count": 71,
   "id": "aware-congo",
   "metadata": {},
   "outputs": [
    {
     "data": {
      "image/png": "[encoded data removed]",
      "text/plain": [
       "<Figure size 432x288 with 2 Axes>"
      ]
     },
     "metadata": {
      "needs_background": "light"
     },
     "output_type": "display_data"
    }
   ],
   "source": [
    "accuracy_score(y_test,predictions)\n",
    "confusion_matrix(y_test,predictions)\n",
    "plot_confusion_matrix(classification, X_test, y_test)\n",
    "plt.show()"
   ]
  },
  {
   "cell_type": "code",
   "execution_count": 72,
   "id": "protected-alaska",
   "metadata": {},
   "outputs": [
    {
     "name": "stdout",
     "output_type": "stream",
     "text": [
      "The mean absolute error of the model in the test set is:   0.01\n",
      "The mean squared error of the model in the test set is:   0.01\n",
      "The root mean squared error of the model in the test set is:   0.08\n",
      "The R2 of the model in the test set is: 0.45\n"
     ]
    }
   ],
   "source": [
    "MAE = mean_absolute_error(y_test,predictions)\n",
    "MSE = mean_squared_error(y_test,predictions)\n",
    "RMSE = np.sqrt(MSE)\n",
    "R2 = r2_score(y_test,predictions)\n",
    "\n",
    "print(\"The mean absolute error of the model in the test set is: %6.2f\" % (MAE))\n",
    "print(\"The mean squared error of the model in the test set is: %6.2f\" % (MSE))\n",
    "print(\"The root mean squared error of the model in the test set is: %6.2f\" % (RMSE))\n",
    "print(\"The R2 of the model in the test set is: %4.2f\" % (R2))"
   ]
  },
  {
   "cell_type": "markdown",
   "id": "federal-nelson",
   "metadata": {},
   "source": [
    "- run the KNN model"
   ]
  },
  {
   "cell_type": "code",
   "execution_count": 73,
   "id": "endangered-badge",
   "metadata": {},
   "outputs": [
    {
     "data": {
      "text/plain": [
       "KNeighborsRegressor(n_neighbors=4)"
      ]
     },
     "execution_count": 73,
     "metadata": {},
     "output_type": "execute_result"
    }
   ],
   "source": [
    "knn_model = KNeighborsRegressor(n_neighbors=4)\n",
    "knn_model.fit(X_train, y_train)"
   ]
  },
  {
   "cell_type": "code",
   "execution_count": 74,
   "id": "dutch-control",
   "metadata": {},
   "outputs": [],
   "source": [
    "knn_predictions = knn_model.predict(X_test)"
   ]
  },
  {
   "cell_type": "code",
   "execution_count": 75,
   "id": "olympic-timber",
   "metadata": {},
   "outputs": [
    {
     "name": "stdout",
     "output_type": "stream",
     "text": [
      "The mean absolute error of the model in the test set is:   0.01\n",
      "The mean squared error of the model in the test set is:   0.01\n",
      "The root mean squared error of the model in the test set is:   0.07\n",
      "The R2 of the model in the test set is: 0.49\n"
     ]
    }
   ],
   "source": [
    "MAE = mean_absolute_error(y_test,knn_predictions)\n",
    "MSE = mean_squared_error(y_test,knn_predictions)\n",
    "RMSE = np.sqrt(MSE)\n",
    "R2 = r2_score(y_test,knn_predictions)\n",
    "\n",
    "print(\"The mean absolute error of the model in the test set is: %6.2f\" % (MAE))\n",
    "print(\"The mean squared error of the model in the test set is: %6.2f\" % (MSE))\n",
    "print(\"The root mean squared error of the model in the test set is: %6.2f\" % (RMSE))\n",
    "print(\"The R2 of the model in the test set is: %4.2f\" % (R2))"
   ]
  },
  {
   "cell_type": "code",
   "execution_count": null,
   "id": "smooth-theater",
   "metadata": {},
   "outputs": [],
   "source": []
  },
  {
   "cell_type": "code",
   "execution_count": null,
   "id": "roman-integrity",
   "metadata": {},
   "outputs": [],
   "source": []
  }
 ],
 "metadata": {
  "kernelspec": {
   "display_name": "Python 3",
   "language": "python",
   "name": "python3"
  },
  "language_info": {
   "codemirror_mode": {
    "name": "ipython",
    "version": 3
   },
   "file_extension": ".py",
   "mimetype": "text/x-python",
   "name": "python",
   "nbconvert_exporter": "python",
   "pygments_lexer": "ipython3",
   "version": "3.9.2"
  }
 },
 "nbformat": 4,
 "nbformat_minor": 5
}
